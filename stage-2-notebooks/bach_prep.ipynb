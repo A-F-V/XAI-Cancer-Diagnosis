{
 "cells": [
  {
   "cell_type": "code",
   "execution_count": 1,
   "metadata": {},
   "outputs": [
    {
     "name": "stdout",
     "output_type": "stream",
     "text": [
      "d:\\Documents\\git\\XAI-Cancer-Diagnosis\\XAI-Cancer-Diagnosis\n"
     ]
    }
   ],
   "source": [
    "import os\n",
    "import sys\n",
    "\n",
    "parent = os.path.dirname(os.getcwd())\n",
    "if parent not in sys.path:\n",
    "    sys.path.append(parent)\n",
    "print(parent)\n",
    "%matplotlib widget"
   ]
  },
  {
   "cell_type": "markdown",
   "metadata": {},
   "source": [
    "# Preencode the BACH cell graphs\n"
   ]
  },
  {
   "cell_type": "code",
   "execution_count": 2,
   "metadata": {},
   "outputs": [],
   "source": [
    "from src.transforms.graph_construction.node_embedding import generate_node_embeddings\n",
    "import torch\n",
    "from src.transforms.image_processing.filters import glcm\n",
    "\n",
    "# For each crop-graph, compute the following:\n",
    "def crop_graph_to_cell_graph(crop_graph,resnet_encoder):\n",
    "    num_nodes = crop_graph.x.shape[0]\n",
    "    # Generate GLCM for each cell\n",
    "    cell_graph = crop_graph.clone()\n",
    "    cell_graph.x = crop_graph.x.unflatten(1, (3, 64, 64))\n",
    "\n",
    "    glcm_for_graph = torch.zeros(num_nodes, 50)\n",
    "    for i, img in enumerate(cell_graph.x):\n",
    "        # Unflatten the image\n",
    "        glcm_for_graph[i] = glcm(img, normalize=True)\n",
    "    \n",
    "    # Pass the cell images through the resnet encoder\n",
    "    cell_graph.x = generate_node_embeddings(imgs=cell_graph.x, resnet_encoder=resnet_encoder,\n",
    "                                            num_neighbours=cell_graph.num_neighbours, cell_types=cell_graph.categories,\n",
    "                                            glcm=glcm_for_graph.cuda())\n",
    "    return cell_graph\n",
    "\n",
    "# TODO: Refactor"
   ]
  },
  {
   "cell_type": "code",
   "execution_count": 3,
   "metadata": {},
   "outputs": [],
   "source": [
    "from src.datasets.BACH import BACH\n",
    "from torch_geometric.loader.dataloader import DataLoader\n",
    "\n",
    "src_folder = os.path.join(parent, \"data\", \"processed\",\n",
    "                            \"BACH_TRAIN\")\n",
    "\n",
    "\n",
    "all_data = BACH(src_folder, pre_encoded=False)"
   ]
  },
  {
   "cell_type": "code",
   "execution_count": 4,
   "metadata": {},
   "outputs": [
    {
     "name": "stderr",
     "output_type": "stream",
     "text": [
      "Using cache found in C:\\Users\\aless/.cache\\torch\\hub\\pytorch_vision_v0.10.0\n"
     ]
    }
   ],
   "source": [
    "from src.deep_learning.architectures.cancer_prediction.cell_encoder import CellEncoder\n",
    "\n",
    "resnet_encoder_path=os.path.join(parent,\"model\", \"CellEncoder.ckpt\")\n",
    "resnet_encoder = CellEncoder.load_from_checkpoint(resnet_encoder_path).eval().cuda()\n"
   ]
  },
  {
   "cell_type": "code",
   "execution_count": 6,
   "metadata": {},
   "outputs": [
    {
     "name": "stderr",
     "output_type": "stream",
     "text": [
      "Generating Encoded Graphs:  25%|██▌       | 97/385 [01:55<05:43,  1.19s/it] \n"
     ]
    },
    {
     "ename": "KeyError",
     "evalue": "'i'",
     "output_type": "error",
     "traceback": [
      "\u001b[1;31m---------------------------------------------------------------------------\u001b[0m",
      "\u001b[1;31mKeyError\u001b[0m                                  Traceback (most recent call last)",
      "\u001b[1;32m~\\AppData\\Local\\Temp/ipykernel_25580/2831524109.py\u001b[0m in \u001b[0;36m<module>\u001b[1;34m\u001b[0m\n\u001b[1;32m----> 1\u001b[1;33m \u001b[0mall_data\u001b[0m\u001b[1;33m.\u001b[0m\u001b[0mgenerate_encoded_graphs\u001b[0m\u001b[1;33m(\u001b[0m\u001b[0mresnet_encoder\u001b[0m\u001b[1;33m)\u001b[0m\u001b[1;33m\u001b[0m\u001b[1;33m\u001b[0m\u001b[0m\n\u001b[0m",
      "\u001b[1;32md:\\Documents\\git\\XAI-Cancer-Diagnosis\\XAI-Cancer-Diagnosis\\src\\datasets\\BACH.py\u001b[0m in \u001b[0;36mgenerate_encoded_graphs\u001b[1;34m(self, model)\u001b[0m\n\u001b[0;32m    188\u001b[0m             \u001b[0mid\u001b[0m \u001b[1;33m=\u001b[0m \u001b[0m_path_to_id\u001b[0m\u001b[1;33m(\u001b[0m\u001b[0mgn\u001b[0m\u001b[1;33m)\u001b[0m\u001b[1;33m\u001b[0m\u001b[1;33m\u001b[0m\u001b[0m\n\u001b[0;32m    189\u001b[0m             \u001b[0mcell_graph\u001b[0m\u001b[1;33m.\u001b[0m\u001b[0mgraph_id\u001b[0m \u001b[1;33m=\u001b[0m \u001b[0mid\u001b[0m\u001b[1;33m\u001b[0m\u001b[1;33m\u001b[0m\u001b[0m\n\u001b[1;32m--> 190\u001b[1;33m             \u001b[0mcell_graph\u001b[0m\u001b[1;33m.\u001b[0m\u001b[0moriginal_image_path\u001b[0m \u001b[1;33m=\u001b[0m \u001b[0mself\u001b[0m\u001b[1;33m.\u001b[0m\u001b[0mabbrev_to_img_path\u001b[0m\u001b[1;33m(\u001b[0m\u001b[0mgn\u001b[0m\u001b[1;33m)\u001b[0m\u001b[1;33m\u001b[0m\u001b[1;33m\u001b[0m\u001b[0m\n\u001b[0m\u001b[0;32m    191\u001b[0m             \u001b[0mtorch\u001b[0m\u001b[1;33m.\u001b[0m\u001b[0msave\u001b[0m\u001b[1;33m(\u001b[0m\u001b[0mcell_graph\u001b[0m\u001b[1;33m,\u001b[0m \u001b[0mos\u001b[0m\u001b[1;33m.\u001b[0m\u001b[0mpath\u001b[0m\u001b[1;33m.\u001b[0m\u001b[0mjoin\u001b[0m\u001b[1;33m(\u001b[0m\u001b[0mself\u001b[0m\u001b[1;33m.\u001b[0m\u001b[0mencoded_graph_dir\u001b[0m\u001b[1;33m,\u001b[0m \u001b[0mgn\u001b[0m\u001b[1;33m)\u001b[0m\u001b[1;33m)\u001b[0m\u001b[1;33m\u001b[0m\u001b[1;33m\u001b[0m\u001b[0m\n\u001b[0;32m    192\u001b[0m \u001b[1;33m\u001b[0m\u001b[0m\n",
      "\u001b[1;32md:\\Documents\\git\\XAI-Cancer-Diagnosis\\XAI-Cancer-Diagnosis\\src\\datasets\\BACH.py\u001b[0m in \u001b[0;36mabbrev_to_img_path\u001b[1;34m(self, abbrev)\u001b[0m\n\u001b[0;32m    174\u001b[0m     \u001b[1;32mdef\u001b[0m \u001b[0mabbrev_to_img_path\u001b[0m\u001b[1;33m(\u001b[0m\u001b[0mself\u001b[0m\u001b[1;33m,\u001b[0m \u001b[0mabbrev\u001b[0m\u001b[1;33m)\u001b[0m\u001b[1;33m:\u001b[0m\u001b[1;33m\u001b[0m\u001b[1;33m\u001b[0m\u001b[0m\n\u001b[0;32m    175\u001b[0m         \u001b[1;31m# Map the first letter to the cancer type\u001b[0m\u001b[1;33m\u001b[0m\u001b[1;33m\u001b[0m\u001b[0m\n\u001b[1;32m--> 176\u001b[1;33m         cancer_type = {'n': 'Normal', 'b': 'Benign',\n\u001b[0m\u001b[0;32m    177\u001b[0m                        'is': 'InSitu', 'iv': 'Invasive'}[abbrev[0]]\n\u001b[0;32m    178\u001b[0m         \u001b[1;31m# Get the image number\u001b[0m\u001b[1;33m\u001b[0m\u001b[1;33m\u001b[0m\u001b[0m\n",
      "\u001b[1;31mKeyError\u001b[0m: 'i'"
     ]
    }
   ],
   "source": [
    "all_data.generate_encoded_graphs(resnet_encoder)"
   ]
  },
  {
   "cell_type": "code",
   "execution_count": null,
   "metadata": {},
   "outputs": [],
   "source": []
  }
 ],
 "metadata": {
  "kernelspec": {
   "display_name": "Python 3",
   "language": "python",
   "name": "python3"
  },
  "language_info": {
   "codemirror_mode": {
    "name": "ipython",
    "version": 3
   },
   "file_extension": ".py",
   "mimetype": "text/x-python",
   "name": "python",
   "nbconvert_exporter": "python",
   "pygments_lexer": "ipython3",
   "version": "3.9.13"
  }
 },
 "nbformat": 4,
 "nbformat_minor": 2
}
