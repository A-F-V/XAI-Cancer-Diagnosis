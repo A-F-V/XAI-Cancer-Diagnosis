{
 "cells": [
  {
   "cell_type": "code",
   "execution_count": 1,
   "metadata": {},
   "outputs": [
    {
     "name": "stdout",
     "output_type": "stream",
     "text": [
      "d:\\Documents\\git\\XAI-Cancer-Diagnosis\\XAI-Cancer-Diagnosis\n"
     ]
    }
   ],
   "source": [
    "import os\n",
    "import sys\n",
    "\n",
    "parent = os.path.dirname(os.getcwd())\n",
    "if parent not in sys.path:\n",
    "    sys.path.append(parent)\n",
    "print(parent)\n",
    "%matplotlib widget"
   ]
  },
  {
   "cell_type": "markdown",
   "metadata": {},
   "source": [
    "# Preencode the BACH cell graphs\n"
   ]
  },
  {
   "cell_type": "code",
   "execution_count": 2,
   "metadata": {},
   "outputs": [],
   "source": [
    "from src.transforms.graph_construction.node_embedding import generate_node_embeddings\n",
    "import torch\n",
    "from src.transforms.image_processing.filters import glcm\n",
    "\n",
    "# For each crop-graph, compute the following:\n",
    "def crop_graph_to_cell_graph(crop_graph,resnet_encoder):\n",
    "    num_nodes = crop_graph.x.shape[0]\n",
    "    # Generate GLCM for each cell\n",
    "    cell_graph = crop_graph.clone()\n",
    "    cell_graph.x = crop_graph.x.unflatten(1, (3, 64, 64))\n",
    "\n",
    "    glcm_for_graph = torch.zeros(num_nodes, 50)\n",
    "    for i, img in enumerate(cell_graph.x):\n",
    "        # Unflatten the image\n",
    "        glcm_for_graph[i] = glcm(img, normalize=True)\n",
    "    \n",
    "    # Pass the cell images through the resnet encoder\n",
    "    cell_graph.x = generate_node_embeddings(imgs=cell_graph.x, resnet_encoder=resnet_encoder,\n",
    "                                            num_neighbours=cell_graph.num_neighbours, cell_types=cell_graph.categories,\n",
    "                                            glcm=glcm_for_graph.cuda())\n",
    "    return cell_graph\n",
    "\n",
    "# TODO: Refactor"
   ]
  },
  {
   "cell_type": "code",
   "execution_count": 3,
   "metadata": {},
   "outputs": [],
   "source": [
    "from src.datasets.BACH import BACH\n",
    "from torch_geometric.loader.dataloader import DataLoader\n",
    "\n",
    "src_folder = os.path.join(parent, \"data\", \"processed\",\n",
    "                            \"BACH_TRAIN\")\n",
    "\n",
    "\n",
    "all_data = BACH(src_folder, pre_encoded=False)"
   ]
  },
  {
   "cell_type": "code",
   "execution_count": 4,
   "metadata": {},
   "outputs": [
    {
     "name": "stderr",
     "output_type": "stream",
     "text": [
      "Using cache found in C:\\Users\\aless/.cache\\torch\\hub\\pytorch_vision_v0.10.0\n"
     ]
    }
   ],
   "source": [
    "from src.deep_learning.architectures.cancer_prediction.cell_encoder import CellEncoder\n",
    "\n",
    "resnet_encoder_path=os.path.join(parent,\"model\", \"CellEncoder.ckpt\")\n",
    "resnet_encoder = CellEncoder.load_from_checkpoint(resnet_encoder_path).eval().cuda()\n"
   ]
  },
  {
   "cell_type": "code",
   "execution_count": 5,
   "metadata": {},
   "outputs": [
    {
     "name": "stderr",
     "output_type": "stream",
     "text": [
      "Generating Encoded Graphs: 100%|██████████| 385/385 [06:53<00:00,  1.07s/it]\n"
     ]
    }
   ],
   "source": [
    "all_data.generate_encoded_graphs(resnet_encoder)"
   ]
  },
  {
   "cell_type": "code",
   "execution_count": null,
   "metadata": {},
   "outputs": [],
   "source": []
  }
 ],
 "metadata": {
  "kernelspec": {
   "display_name": "Python 3",
   "language": "python",
   "name": "python3"
  },
  "language_info": {
   "codemirror_mode": {
    "name": "ipython",
    "version": 3
   },
   "file_extension": ".py",
   "mimetype": "text/x-python",
   "name": "python",
   "nbconvert_exporter": "python",
   "pygments_lexer": "ipython3",
   "version": "3.9.13"
  }
 },
 "nbformat": 4,
 "nbformat_minor": 2
}
