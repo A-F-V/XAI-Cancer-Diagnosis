{
 "cells": [
  {
   "cell_type": "code",
   "execution_count": 1,
   "metadata": {},
   "outputs": [
    {
     "name": "stdout",
     "output_type": "stream",
     "text": [
      "d:\\Documents\\git\\XAI-Cancer-Diagnosis\\XAI-Cancer-Diagnosis\n"
     ]
    }
   ],
   "source": [
    "import os\n",
    "import sys\n",
    "\n",
    "parent = os.path.dirname(os.getcwd())\n",
    "if parent not in sys.path:\n",
    "    sys.path.append(parent)\n",
    "print(parent)\n",
    "%matplotlib widget"
   ]
  },
  {
   "cell_type": "markdown",
   "metadata": {},
   "source": [
    "# Grid Search for Parameter Tuning\n"
   ]
  },
  {
   "cell_type": "code",
   "execution_count": 2,
   "metadata": {},
   "outputs": [],
   "source": [
    "training_args = {\n",
    "  \"DEVICE\": \"cuda\",\n",
    "  \"RUN_NAME\": \"FtT\",\n",
    "  \"EXPERIMENT_ID\": 7,\n",
    "  \"EXPERIMENT_NAME\": \"FtT\",\n",
    "  \"EPOCHS\": 450,\n",
    "  \"BATCH_SIZE_TRAIN\": 4,\n",
    "  \"BATCH_SIZE_VAL\": 4,\n",
    "  \"MAX_LR\": 0.001,\n",
    "  \"ONE_CYCLE\": True,\n",
    "  \"START_LR\": 0.000005,\n",
    "  \"NUM_WORKERS\": 6,\n",
    "  \"START_CHECKPOINT\": None,\n",
    "  \"EARLY_STOP\": False,\n",
    "  \"LR_TEST\": False,\n",
    "  \"IMG_SIZE\": 64,\n",
    "  \"DROPOUT\": 0,\n",
    "  \"GRID\": [\n",
    "    {\n",
    "      \"HP\": \"HEIGHT\",\n",
    "      \"TYPE\": \"CHOICE\",\n",
    "      \"VALUE\": [3,5,7,9,11]\n",
    "    },\n",
    "    {\n",
    "      \"HP\": \"WIDTH\",\n",
    "      \"TYPE\": \"CHOICE\",\n",
    "      \"VALUE\": [4, 8, 16,32,64]\n",
    "    }\n",
    "  ],\n",
    "  \"GRID_SEARCH\": False,\n",
    "  \"TRIALS\": 15,\n",
    "  \"HEIGHT\": 7,\n",
    "  \"WIDTH\": 32,\n",
    "  \"K_NN\": 6\n",
    "}\n",
    "\n",
    "src_folder = os.path.join(parent, \"data\",\"processed\",\"BACH_TRAIN\")"
   ]
  },
  {
   "cell_type": "code",
   "execution_count": 3,
   "metadata": {},
   "outputs": [
    {
     "name": "stderr",
     "output_type": "stream",
     "text": [
      "GPU available: True, used: True\n",
      "TPU available: False, using: 0 TPU cores\n",
      "IPU available: False, using: 0 IPUs\n",
      "LOCAL_RANK: 0 - CUDA_VISIBLE_DEVICES: [0]\n",
      "\n",
      "  | Name      | Type       | Params\n",
      "-----------------------------------------\n",
      "0 | gnn       | GCNx       | 24.8 K\n",
      "1 | predictor | Sequential | 2.3 K \n",
      "-----------------------------------------\n",
      "27.0 K    Trainable params\n",
      "0         Non-trainable params\n",
      "27.0 K    Total params\n",
      "0.108     Total estimated model params size (MB)\n"
     ]
    },
    {
     "name": "stdout",
     "output_type": "stream",
     "text": [
      "Initializing Training\n",
      "The Args are: {'DEVICE': 'cuda', 'RUN_NAME': 'FtT', 'EXPERIMENT_ID': 7, 'EXPERIMENT_NAME': 'FtT', 'EPOCHS': 450, 'BATCH_SIZE_TRAIN': 4, 'BATCH_SIZE_VAL': 4, 'MAX_LR': 0.001, 'ONE_CYCLE': True, 'START_LR': 5e-06, 'NUM_WORKERS': 6, 'START_CHECKPOINT': None, 'EARLY_STOP': False, 'LR_TEST': False, 'IMG_SIZE': 64, 'DROPOUT': 0, 'GRID': [{'HP': 'HEIGHT', 'TYPE': 'CHOICE', 'VALUE': [3, 5, 7, 9, 11]}, {'HP': 'WIDTH', 'TYPE': 'CHOICE', 'VALUE': [4, 8, 16, 32, 64]}], 'GRID_SEARCH': False, 'TRIALS': 15, 'HEIGHT': 7, 'WIDTH': 32, 'K_NN': 6}\n",
      "Getting the Data\n",
      "The data source folder is d:\\Documents\\git\\XAI-Cancer-Diagnosis\\XAI-Cancer-Diagnosis\\data\\processed\\BACH_TRAIN\n",
      "Usig NUM WORKERS: 6\n",
      "Using 77 training examples and 19 validation example - With #9550 steps\n",
      "Training Started\n"
     ]
    },
    {
     "data": {
      "application/vnd.jupyter.widget-view+json": {
       "model_id": "533fbcc6989a4f44acab709d82e67e5f",
       "version_major": 2,
       "version_minor": 0
      },
      "text/plain": [
       "Validation sanity check: 0it [00:00, ?it/s]"
      ]
     },
     "metadata": {},
     "output_type": "display_data"
    },
    {
     "name": "stderr",
     "output_type": "stream",
     "text": [
      "c:\\Users\\aless\\AppData\\Local\\Programs\\Python\\Python39\\lib\\site-packages\\pytorch_lightning\\trainer\\data_loading.py:116: UserWarning: The dataloader, val_dataloader 0, does not have many workers which may be a bottleneck. Consider increasing the value of the `num_workers` argument` (try 12 which is the number of cpus on this machine) in the `DataLoader` init to improve performance.\n",
      "  rank_zero_warn(\n",
      "c:\\Users\\aless\\AppData\\Local\\Programs\\Python\\Python39\\lib\\site-packages\\pytorch_lightning\\utilities\\data.py:59: UserWarning: Trying to infer the `batch_size` from an ambiguous collection. The batch size we found is 10. To avoid any miscalculations, use `self.log(..., batch_size=batch_size)`.\n",
      "  warning_cache.warn(\n"
     ]
    },
    {
     "data": {
      "application/vnd.jupyter.widget-view+json": {
       "model_id": "c44f9db444c7404cb9321c456088dbb5",
       "version_major": 2,
       "version_minor": 0
      },
      "text/plain": [
       "Training: 0it [00:00, ?it/s]"
      ]
     },
     "metadata": {},
     "output_type": "display_data"
    },
    {
     "name": "stderr",
     "output_type": "stream",
     "text": [
      "c:\\Users\\aless\\AppData\\Local\\Programs\\Python\\Python39\\lib\\site-packages\\pytorch_lightning\\trainer\\trainer.py:686: UserWarning: Detected KeyboardInterrupt, attempting graceful shutdown...\n",
      "  rank_zero_warn(\"Detected KeyboardInterrupt, attempting graceful shutdown...\")\n"
     ]
    },
    {
     "name": "stdout",
     "output_type": "stream",
     "text": [
      "FtT_FtT.ckpt\n"
     ]
    }
   ],
   "source": [
    "from src.deep_learning.trainers.gnn_trainer import GNNTrainer\n",
    "\n",
    "trainer = GNNTrainer(training_args)\n",
    "trainer.train(src_folder=src_folder)"
   ]
  },
  {
   "cell_type": "code",
   "execution_count": null,
   "metadata": {},
   "outputs": [],
   "source": []
  }
 ],
 "metadata": {
  "kernelspec": {
   "display_name": "Python 3",
   "language": "python",
   "name": "python3"
  },
  "language_info": {
   "codemirror_mode": {
    "name": "ipython",
    "version": 3
   },
   "file_extension": ".py",
   "mimetype": "text/x-python",
   "name": "python",
   "nbconvert_exporter": "python",
   "pygments_lexer": "ipython3",
   "version": "3.9.13"
  }
 },
 "nbformat": 4,
 "nbformat_minor": 2
}
