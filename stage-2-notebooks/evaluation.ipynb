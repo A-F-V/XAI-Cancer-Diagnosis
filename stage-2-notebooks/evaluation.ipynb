{
 "cells": [
  {
   "cell_type": "markdown",
   "metadata": {},
   "source": [
    "# Evaluation of the Model"
   ]
  },
  {
   "cell_type": "code",
   "execution_count": 1,
   "metadata": {},
   "outputs": [
    {
     "data": {
      "text/plain": [
       "'d:\\\\Documents\\\\git\\\\XAI-Cancer-Diagnosis\\\\XAI-Cancer-Diagnosis'"
      ]
     },
     "execution_count": 1,
     "metadata": {},
     "output_type": "execute_result"
    }
   ],
   "source": [
    "import os\n",
    "import sys\n",
    "\n",
    "parent = os.path.dirname(os.path.abspath(os.getcwd()))\n",
    "if parent not in sys.path:\n",
    "    sys.path.append(parent)\n",
    "    \n",
    "parent"
   ]
  },
  {
   "cell_type": "markdown",
   "metadata": {},
   "source": [
    "# Data and Models"
   ]
  },
  {
   "cell_type": "code",
   "execution_count": 2,
   "metadata": {},
   "outputs": [],
   "source": [
    "train_ind, val_ind = [], []\n",
    "src_folder = os.path.join(parent, \"data\", \"processed\",\n",
    "                            \"BACH_TRAIN\")\n",
    "graph_split = os.path.join(src_folder, \"graph_ind.txt\")\n",
    "with open(graph_split, \"r\") as f:\n",
    "    l1 = f.readline().strip()\n",
    "    l2 = f.readline().strip()\n",
    "    train_ind = list(map(int, l1[1:-1].split(\",\")))\n",
    "    val_ind = list(map(int, l2[1:-1].split(\",\")))"
   ]
  },
  {
   "cell_type": "code",
   "execution_count": 3,
   "metadata": {},
   "outputs": [],
   "source": [
    "from src.datasets.BACH import BACH\n",
    "from torch_geometric.loader.dataloader import DataLoader\n",
    "\n",
    "train_set, val_set = BACH(src_folder, ids=train_ind,pre_encoded=True), BACH(src_folder, ids=val_ind,pre_encoded=True)\n",
    "\n",
    "def get_class(path_name):\n",
    "    if \"Benign\" in path_name:\n",
    "        return 0\n",
    "    if \"InSitu\" in path_name:\n",
    "        return 1\n",
    "    if \"Invasive\" in path_name:\n",
    "        return 2\n",
    "    return 3"
   ]
  },
  {
   "cell_type": "code",
   "execution_count": 4,
   "metadata": {},
   "outputs": [],
   "source": [
    "from src.predict_cancer import predict_cancer\n",
    "import torch\n",
    "from src.deep_learning.architectures.cancer_prediction.cancer_gnn import CancerGNN\n",
    "from torch_geometric.transforms import Compose, KNNGraph, RandomTranslate, Distance\n",
    "\n",
    "gnn_args = {\"HEIGHT\": 7, \"WIDTH\": 32}\n",
    "graph_trans = Compose([KNNGraph(6)])\n",
    "\n",
    "gnn_loc=os.path.join(parent,\"model\", \"GCN.ckpt\")\n",
    "gnn_voter = CancerGNN.load_from_checkpoint(gnn_loc, **gnn_args).eval().cuda()\n",
    "\n",
    "def predict(graph):\n",
    "    with torch.no_grad():\n",
    "        pred = gnn_voter.predict(graph.cuda())\n",
    "        return torch.softmax(pred,dim=1).cpu().numpy()        \n",
    "\n",
    "#... run predict_cancer on each image (all 400), and save to a csv along with ground truth.\n",
    "\n",
    "# ... seperate predictions based on train or val. Create Confusion Matrix"
   ]
  },
  {
   "cell_type": "markdown",
   "metadata": {},
   "source": [
    "## Confusion Matrix"
   ]
  },
  {
   "cell_type": "code",
   "execution_count": 5,
   "metadata": {},
   "outputs": [
    {
     "name": "stderr",
     "output_type": "stream",
     "text": [
      "100%|██████████| 308/308 [02:13<00:00,  2.31it/s]\n",
      "100%|██████████| 76/76 [00:35<00:00,  2.12it/s]\n"
     ]
    }
   ],
   "source": [
    "from src.deep_learning.metrics.confusion_matrix import confusion_matrix\n",
    "from tqdm import tqdm\n",
    "def cm(data_set):\n",
    "    Y,Y_HAT =[],[]\n",
    "    for graph in tqdm(data_set):\n",
    "        y = graph.y\n",
    "        y_hat= predict(graph)\n",
    "        Y.append(y.item())\n",
    "        Y_HAT.append(y_hat.argmax().item())\n",
    "    return confusion_matrix(torch.as_tensor(Y),torch.as_tensor(Y_HAT),num_classes=4)\n",
    "        \n",
    "    \n",
    "tcm = cm(train_set)\n",
    "vcm = cm(val_set)"
   ]
  },
  {
   "cell_type": "code",
   "execution_count": 7,
   "metadata": {},
   "outputs": [
    {
     "data": {
      "text/plain": [
       "<AxesSubplot:>"
      ]
     },
     "execution_count": 7,
     "metadata": {},
     "output_type": "execute_result"
    },
    {
     "data": {
      "image/png": "[encoded data removed]",
      "text/plain": [
       "<Figure size 432x288 with 2 Axes>"
      ]
     },
     "metadata": {
      "needs_background": "light"
     },
     "output_type": "display_data"
    }
   ],
   "source": [
    "import seaborn as sns\n",
    "sns.heatmap(tcm, annot=True, fmt=\".0f\", cmap=\"Blues\")"
   ]
  },
  {
   "cell_type": "code",
   "execution_count": 8,
   "metadata": {},
   "outputs": [
    {
     "data": {
      "text/plain": [
       "<AxesSubplot:>"
      ]
     },
     "execution_count": 8,
     "metadata": {},
     "output_type": "execute_result"
    },
    {
     "data": {
      "image/png": "[encoded data removed]",
      "text/plain": [
       "<Figure size 432x288 with 2 Axes>"
      ]
     },
     "metadata": {
      "needs_background": "light"
     },
     "output_type": "display_data"
    }
   ],
   "source": [
    "sns.heatmap(vcm, annot=True, fmt=\".0f\", cmap=\"Blues\")"
   ]
  },
  {
   "cell_type": "code",
   "execution_count": 11,
   "metadata": {},
   "outputs": [
    {
     "name": "stdout",
     "output_type": "stream",
     "text": [
      "Total of 308 images\n",
      "Four class Accuracy: 0.9058441519737244 - 279\n",
      "Two class Accuracy: 0.9448052048683167 - 291\n",
      "Total of 76 images\n",
      "Four class Accuracy: 0.7763158082962036 - 59\n",
      "Two class Accuracy: 0.8421052694320679 - 64\n"
     ]
    }
   ],
   "source": [
    "def print_accuracy(cm):\n",
    "    total = cm.sum()\n",
    "    four_class_correct = cm.trace()\n",
    "    print(f\"Total of {total} images\")    \n",
    "    print(f\"Four class Accuracy: {four_class_correct/total} - {four_class_correct}\")\n",
    "   # For two class_correct, treat 0 and 1 as same and 2 and 3 as same\n",
    "    two_class_correct = cm[:2,:2].sum() + cm[2:,2:].sum()\n",
    "    print(f\"Two class Accuracy: {two_class_correct/total} - {two_class_correct}\")\n",
    "print_accuracy(tcm)\n",
    "print_accuracy(vcm)"
   ]
  }
 ],
 "metadata": {
  "interpreter": {
   "hash": "940b217460c8a39d0a8b23629c307f0e2ded337e7c817df93495751a77d018ae"
  },
  "kernelspec": {
   "display_name": "Python 3.9.4 ('venv': venv)",
   "language": "python",
   "name": "python3"
  },
  "language_info": {
   "codemirror_mode": {
    "name": "ipython",
    "version": 3
   },
   "file_extension": ".py",
   "mimetype": "text/x-python",
   "name": "python",
   "nbconvert_exporter": "python",
   "pygments_lexer": "ipython3",
   "version": "3.9.13"
  },
  "orig_nbformat": 4
 },
 "nbformat": 4,
 "nbformat_minor": 2
}
