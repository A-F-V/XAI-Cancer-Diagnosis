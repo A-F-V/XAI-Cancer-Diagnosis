{
 "cells": [
  {
   "cell_type": "markdown",
   "metadata": {},
   "source": [
    "# Dimensionality Reduction through AutoEncoder"
   ]
  },
  {
   "cell_type": "code",
   "execution_count": 2,
   "metadata": {},
   "outputs": [
    {
     "name": "stdout",
     "output_type": "stream",
     "text": [
      "c:\\Users\\aless\\Documents\\git\\XAI-Cancer-Diagnosis\\XAI-Cancer-Diagnosis\n"
     ]
    }
   ],
   "source": [
    "import os\n",
    "import sys\n",
    "\n",
    "parent = os.path.dirname(os.path.dirname(os.getcwd()))\n",
    "if parent not in sys.path:\n",
    "    sys.path.append(parent)\n",
    "print(parent)"
   ]
  },
  {
   "cell_type": "markdown",
   "metadata": {},
   "source": [
    "# IMG COLOUR JITTER"
   ]
  },
  {
   "cell_type": "code",
   "execution_count": 4,
   "metadata": {},
   "outputs": [],
   "source": [
    "crops_path = os.path.join(parent,\"data\",\"processed\",\"BACH_TRAIN\",\"CELL_CROPS\")"
   ]
  },
  {
   "cell_type": "code",
   "execution_count": 1,
   "metadata": {},
   "outputs": [
    {
     "ename": "ImportError",
     "evalue": "cannot import name 'AddGaussianNoise' from 'torchvision.transforms' (c:\\Users\\aless\\Documents\\git\\XAI-Cancer-Diagnosis\\XAI-Cancer-Diagnosis\\venv\\lib\\site-packages\\torchvision\\transforms\\__init__.py)",
     "output_type": "error",
     "traceback": [
      "\u001b[1;31m---------------------------------------------------------------------------\u001b[0m",
      "\u001b[1;31mImportError\u001b[0m                               Traceback (most recent call last)",
      "\u001b[1;32mc:\\Users\\aless\\Documents\\git\\XAI-Cancer-Diagnosis\\XAI-Cancer-Diagnosis\\notebooks\\cancer_prediction\\AutoEncoder.ipynb Cell 5'\u001b[0m in \u001b[0;36m<module>\u001b[1;34m\u001b[0m\n\u001b[0;32m      <a href='vscode-notebook-cell:/c%3A/Users/aless/Documents/git/XAI-Cancer-Diagnosis/XAI-Cancer-Diagnosis/notebooks/cancer_prediction/AutoEncoder.ipynb#ch0000004?line=1'>2</a>\u001b[0m \u001b[39mfrom\u001b[39;00m \u001b[39mPIL\u001b[39;00m \u001b[39mimport\u001b[39;00m Image\n\u001b[0;32m      <a href='vscode-notebook-cell:/c%3A/Users/aless/Documents/git/XAI-Cancer-Diagnosis/XAI-Cancer-Diagnosis/notebooks/cancer_prediction/AutoEncoder.ipynb#ch0000004?line=2'>3</a>\u001b[0m \u001b[39mimport\u001b[39;00m \u001b[39mtorch\u001b[39;00m\n\u001b[1;32m----> <a href='vscode-notebook-cell:/c%3A/Users/aless/Documents/git/XAI-Cancer-Diagnosis/XAI-Cancer-Diagnosis/notebooks/cancer_prediction/AutoEncoder.ipynb#ch0000004?line=3'>4</a>\u001b[0m \u001b[39mfrom\u001b[39;00m \u001b[39mtorchvision\u001b[39;00m\u001b[39m.\u001b[39;00m\u001b[39mtransforms\u001b[39;00m \u001b[39mimport\u001b[39;00m ToTensor,ColorJitter,Compose,RandomVerticalFlip,RandomHorizontalFlip,RandomChoice,GaussianBlur,RandomCrop,AddGaussianNoise\n\u001b[0;32m      <a href='vscode-notebook-cell:/c%3A/Users/aless/Documents/git/XAI-Cancer-Diagnosis/XAI-Cancer-Diagnosis/notebooks/cancer_prediction/AutoEncoder.ipynb#ch0000004?line=6'>7</a>\u001b[0m images \u001b[39m=\u001b[39m \u001b[39mlist\u001b[39m(\u001b[39mmap\u001b[39m(\u001b[39mlambda\u001b[39;00m x: ToTensor()(Image\u001b[39m.\u001b[39mopen(x)),random\u001b[39m.\u001b[39mchoices(\u001b[39mlist\u001b[39m(\u001b[39mmap\u001b[39m(\u001b[39mlambda\u001b[39;00m x: os\u001b[39m.\u001b[39mpath\u001b[39m.\u001b[39mjoin(crops_path,x),os\u001b[39m.\u001b[39mlistdir(crops_path))), k\u001b[39m=\u001b[39m\u001b[39m10\u001b[39m)))\n",
      "\u001b[1;31mImportError\u001b[0m: cannot import name 'AddGaussianNoise' from 'torchvision.transforms' (c:\\Users\\aless\\Documents\\git\\XAI-Cancer-Diagnosis\\XAI-Cancer-Diagnosis\\venv\\lib\\site-packages\\torchvision\\transforms\\__init__.py)"
     ]
    }
   ],
   "source": [
    "import random\n",
    "from PIL import Image\n",
    "import torch\n",
    "from torchvision.transforms import ToTensor,ColorJitter,Compose,RandomVerticalFlip,RandomHorizontalFlip,RandomChoice,GaussianBlur,RandomCrop,AddGaussianNoise\n",
    "\n",
    "\n",
    "images = list(map(lambda x: ToTensor()(Image.open(x)),random.choices(list(map(lambda x: os.path.join(crops_path,x),os.listdir(crops_path))), k=10)))\n",
    "\n"
   ]
  },
  {
   "cell_type": "code",
   "execution_count": 2,
   "metadata": {},
   "outputs": [
    {
     "ename": "ModuleNotFoundError",
     "evalue": "No module named 'src'",
     "output_type": "error",
     "traceback": [
      "\u001b[1;31m---------------------------------------------------------------------------\u001b[0m",
      "\u001b[1;31mModuleNotFoundError\u001b[0m                       Traceback (most recent call last)",
      "\u001b[1;32mc:\\Users\\aless\\Documents\\git\\XAI-Cancer-Diagnosis\\XAI-Cancer-Diagnosis\\notebooks\\cancer_prediction\\AutoEncoder.ipynb Cell 6'\u001b[0m in \u001b[0;36m<module>\u001b[1;34m\u001b[0m\n\u001b[1;32m----> <a href='vscode-notebook-cell:/c%3A/Users/aless/Documents/git/XAI-Cancer-Diagnosis/XAI-Cancer-Diagnosis/notebooks/cancer_prediction/AutoEncoder.ipynb#ch0000005?line=0'>1</a>\u001b[0m \u001b[39mfrom\u001b[39;00m \u001b[39msrc\u001b[39;00m\u001b[39m.\u001b[39;00m\u001b[39mvizualizations\u001b[39;00m\u001b[39m.\u001b[39;00m\u001b[39mimage_viz\u001b[39;00m \u001b[39mimport\u001b[39;00m plot_images \n\u001b[0;32m      <a href='vscode-notebook-cell:/c%3A/Users/aless/Documents/git/XAI-Cancer-Diagnosis/XAI-Cancer-Diagnosis/notebooks/cancer_prediction/AutoEncoder.ipynb#ch0000005?line=1'>2</a>\u001b[0m \u001b[39mfrom\u001b[39;00m \u001b[39msrc\u001b[39;00m\u001b[39m.\u001b[39;00m\u001b[39mutilities\u001b[39;00m\u001b[39m.\u001b[39;00m\u001b[39mimg_utilities\u001b[39;00m \u001b[39mimport\u001b[39;00m tensor_to_numpy\n\u001b[0;32m      <a href='vscode-notebook-cell:/c%3A/Users/aless/Documents/git/XAI-Cancer-Diagnosis/XAI-Cancer-Diagnosis/notebooks/cancer_prediction/AutoEncoder.ipynb#ch0000005?line=2'>3</a>\u001b[0m \u001b[39mimport\u001b[39;00m \u001b[39mmatplotlib\u001b[39;00m\u001b[39m.\u001b[39;00m\u001b[39mpyplot\u001b[39;00m \u001b[39mas\u001b[39;00m \u001b[39mplt\u001b[39;00m\n",
      "\u001b[1;31mModuleNotFoundError\u001b[0m: No module named 'src'"
     ]
    }
   ],
   "source": [
    "from src.vizualizations.image_viz import plot_images \n",
    "from src.utilities.img_utilities import tensor_to_numpy\n",
    "import matplotlib.pyplot as plt\n",
    "\n",
    "trans = Compose([                                       # ASPIRATIONAL\n",
    "            RandomHorizontalFlip(), RandomVerticalFlip(), ColorJitter(brightness=0.3, contrast=0.1, saturation=0.1, hue=(-0.1, 0.1))]\n",
    "        )\n",
    "\n",
    "def plot(images):\n",
    "    plot_images(list(map(tensor_to_numpy,images)),(1,10))\n",
    "    plt.show()\n",
    "    \n",
    "plot(images)\n",
    "plot(map(ColorJitter(brightness= 0.3,contrast= 0.1, saturation=0.1, hue=(-0.1,0.1)),images))"
   ]
  }
 ],
 "metadata": {
  "interpreter": {
   "hash": "281c2a3310c6ee84981005ada6d27171c5222c196ec4eb053b8cd9b83c5ea575"
  },
  "kernelspec": {
   "display_name": "Python 3.9.4 ('venv': venv)",
   "language": "python",
   "name": "python3"
  },
  "language_info": {
   "codemirror_mode": {
    "name": "ipython",
    "version": 3
   },
   "file_extension": ".py",
   "mimetype": "text/x-python",
   "name": "python",
   "nbconvert_exporter": "python",
   "pygments_lexer": "ipython3",
   "version": "3.9.4"
  },
  "orig_nbformat": 4
 },
 "nbformat": 4,
 "nbformat_minor": 2
}
