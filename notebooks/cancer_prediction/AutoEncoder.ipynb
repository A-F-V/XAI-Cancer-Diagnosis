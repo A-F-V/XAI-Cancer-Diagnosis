{
 "cells": [
  {
   "cell_type": "markdown",
   "metadata": {},
   "source": [
    "# Dimensionality Reduction through AutoEncoder"
   ]
  },
  {
   "cell_type": "code",
   "execution_count": 1,
   "metadata": {},
   "outputs": [
    {
     "name": "stdout",
     "output_type": "stream",
     "text": [
      "d:\\Documents\\git\\XAI-Cancer-Diagnosis\n"
     ]
    }
   ],
   "source": [
    "import os\n",
    "import sys\n",
    "\n",
    "parent = os.path.dirname(os.path.dirname(os.getcwd()))\n",
    "if parent not in sys.path:\n",
    "    sys.path.append(parent)\n",
    "print(parent)"
   ]
  },
  {
   "cell_type": "code",
   "execution_count": 2,
   "metadata": {},
   "outputs": [
    {
     "name": "stdout",
     "output_type": "stream",
     "text": [
      "{'DEVICE': 'cuda', 'RUN_NAME': 'Auto Encoder TEST', 'EXPERIMENT_ID': 5, 'EXPERIMENT_NAME': 'AE', 'EPOCHS': 500, 'BATCH_SIZE_TRAIN': 32, 'BATCH_SIZE_VAL': 128, 'MAX_LR': 0.005, 'ONE_CYCLE': True, 'START_LR': 0.0005, 'NUM_WORKERS': 4, 'START_CHECKPOINT': '', 'EARLY_STOP': False, 'LR_TEST': False, 'DOWN_SAMPLES': 0, 'NOTES': '', 'WEIGHT_DECAY': 0.001}\n"
     ]
    }
   ],
   "source": [
    "import json\n",
    "\n",
    "args = json.load(open(os.path.join(parent,\"experiments\",\"args\",\"default.json\")))\n",
    "print(args)"
   ]
  }
 ],
 "metadata": {
  "interpreter": {
   "hash": "281c2a3310c6ee84981005ada6d27171c5222c196ec4eb053b8cd9b83c5ea575"
  },
  "kernelspec": {
   "display_name": "Python 3.9.4 ('venv': venv)",
   "language": "python",
   "name": "python3"
  },
  "language_info": {
   "codemirror_mode": {
    "name": "ipython",
    "version": 3
   },
   "file_extension": ".py",
   "mimetype": "text/x-python",
   "name": "python",
   "nbconvert_exporter": "python",
   "pygments_lexer": "ipython3",
   "version": "3.9.4"
  },
  "orig_nbformat": 4
 },
 "nbformat": 4,
 "nbformat_minor": 2
}
