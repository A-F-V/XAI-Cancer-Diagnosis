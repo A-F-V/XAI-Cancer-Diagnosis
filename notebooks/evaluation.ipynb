{
 "cells": [
  {
   "cell_type": "markdown",
   "metadata": {},
   "source": [
    "# Evaluation of the Model"
   ]
  },
  {
   "cell_type": "code",
   "execution_count": 1,
   "metadata": {},
   "outputs": [
    {
     "data": {
      "text/plain": [
       "'c:\\\\Users\\\\aless\\\\Documents\\\\git\\\\XAI-Cancer-Diagnosis\\\\XAI-Cancer-Diagnosis'"
      ]
     },
     "execution_count": 1,
     "metadata": {},
     "output_type": "execute_result"
    }
   ],
   "source": [
    "import os\n",
    "import sys\n",
    "\n",
    "parent = os.path.dirname(os.path.abspath(os.getcwd()))\n",
    "if parent not in sys.path:\n",
    "    sys.path.append(parent)\n",
    "    \n",
    "parent"
   ]
  },
  {
   "cell_type": "markdown",
   "metadata": {},
   "source": [
    "# Data and Models"
   ]
  },
  {
   "cell_type": "code",
   "execution_count": 2,
   "metadata": {},
   "outputs": [],
   "source": [
    "train_ind, val_ind = [], []\n",
    "src_folder = os.path.join(parent, \"data\", \"processed\",\n",
    "                            \"BACH_TRAIN\")\n",
    "graph_split = os.path.join(src_folder, \"graph_ind.txt\")\n",
    "with open(graph_split, \"r\") as f:\n",
    "    l1 = f.readline().strip()\n",
    "    l2 = f.readline().strip()\n",
    "    train_ind = list(map(int, l1[1:-1].split(\",\")))\n",
    "    val_ind = list(map(int, l2[1:-1].split(\",\")))"
   ]
  },
  {
   "cell_type": "code",
   "execution_count": 3,
   "metadata": {},
   "outputs": [],
   "source": [
    "from src.datasets.BACH import BACH\n",
    "from torch_geometric.loader.dataloader import DataLoader\n",
    "\n",
    "train_set, val_set = BACH(src_folder, ids=train_ind,pred_mode=True), BACH(src_folder, ids=val_ind,pred_mode=True)\n",
    "\n",
    "def get_class(path_name):\n",
    "    if \"Benign\" in path_name:\n",
    "        return 0\n",
    "    if \"InSitu\" in path_name:\n",
    "        return 1\n",
    "    if \"Invasive\" in path_name:\n",
    "        return 2\n",
    "    return 3"
   ]
  },
  {
   "cell_type": "code",
   "execution_count": 4,
   "metadata": {},
   "outputs": [],
   "source": [
    "from src.predict_cancer import predict_cancer\n",
    "import torch\n",
    "from src.model.architectures.cancer_prediction.pred_gnn import PredGNN\n",
    "from torch_geometric.transforms import Compose, KNNGraph, RandomTranslate, Distance\n",
    "\n",
    "gnn_voter_args = {\"LAYERS\": 12, \"WIDTH\": 4, \"GLOBAL_POOL\": \"MEAN\", \"RADIUS_FUNCTION\": \"INVSQUARE\", \"POOL_RATIO\": 1}\n",
    "graph_trans = Compose([KNNGraph(6),  Distance(norm=False, cat=False)])\n",
    "\n",
    "gnn_voter_loc=os.path.join(parent,\"model\", \"GNN_VOTER.ckpt\")\n",
    "\n",
    "def predict(graph):\n",
    "    with torch.no_grad():\n",
    "        gnn_voter = PredGNN.load_from_checkpoint(gnn_voter_loc, **gnn_voter_args).eval().cuda()\n",
    "        voting_graph = graph_trans(graph).cuda()\n",
    "        prediction = gnn_voter(voting_graph.x, voting_graph.edge_index, voting_graph.edge_attr,\n",
    "                            torch.zeros(voting_graph.x.shape[0]).long().cuda()).squeeze()\n",
    "        return prediction\n",
    "\n",
    "#... run predict_cancer on each image (all 400), and save to a csv along with ground truth.\n",
    "\n",
    "# ... seperate predictions based on train or val. Create Confusion Matrix"
   ]
  },
  {
   "cell_type": "markdown",
   "metadata": {},
   "source": [
    "## Confusion Matrix"
   ]
  },
  {
   "cell_type": "code",
   "execution_count": 5,
   "metadata": {},
   "outputs": [
    {
     "name": "stderr",
     "output_type": "stream",
     "text": [
      "100%|██████████| 320/320 [00:47<00:00,  6.80it/s]\n",
      "100%|██████████| 80/80 [00:11<00:00,  6.91it/s]\n"
     ]
    }
   ],
   "source": [
    "from src.model.evaluation.confusion_matrix import confusion_matrix\n",
    "from tqdm import tqdm\n",
    "def cm(data_set):\n",
    "    Y,Y_HAT =[],[]\n",
    "    for graph in tqdm(data_set):\n",
    "        y = graph.y\n",
    "        y_hat= predict(graph)\n",
    "        Y.append(y.item())\n",
    "        Y_HAT.append(y_hat.argmax().item())\n",
    "    return confusion_matrix(torch.as_tensor(Y),torch.as_tensor(Y_HAT),num_classes=4)\n",
    "        \n",
    "    \n",
    "tcm = cm(train_set)\n",
    "vcm = cm(val_set)"
   ]
  },
  {
   "cell_type": "code",
   "execution_count": 6,
   "metadata": {},
   "outputs": [],
   "source": [
    "def cm_certainty(data_set,threshold=0.6):\n",
    "    Y,Y_HAT =[],[]\n",
    "    for graph in tqdm(data_set):\n",
    "        y = graph.y\n",
    "        y_hat= predict(graph)\n",
    "        canc = torch.as_tensor([y_hat[[0,3]].sum(),y_hat[[1,2]].sum()])\n",
    "        if canc.max()<threshold:\n",
    "            continue\n",
    "        Y.append(y.item())\n",
    "        Y_HAT.append(y_hat.argmax().item())\n",
    "    return confusion_matrix(torch.as_tensor(Y),torch.as_tensor(Y_HAT),num_classes=4)"
   ]
  },
  {
   "cell_type": "code",
   "execution_count": 12,
   "metadata": {},
   "outputs": [
    {
     "name": "stderr",
     "output_type": "stream",
     "text": [
      "100%|██████████| 320/320 [00:48<00:00,  6.66it/s]\n"
     ]
    },
    {
     "data": {
      "text/plain": [
       "<AxesSubplot:>"
      ]
     },
     "execution_count": 12,
     "metadata": {},
     "output_type": "execute_result"
    },
    {
     "data": {
      "image/png": "[encoded data removed]",
      "text/plain": [
       "<Figure size 432x288 with 2 Axes>"
      ]
     },
     "metadata": {
      "needs_background": "light"
     },
     "output_type": "display_data"
    }
   ],
   "source": [
    "import seaborn as sns\n",
    "cert_cm = cm_certainty(train_set,0.95)\n",
    "sns.heatmap(cert_cm, annot=True, fmt=\".0f\", cmap=\"Blues\")"
   ]
  },
  {
   "cell_type": "code",
   "execution_count": 8,
   "metadata": {},
   "outputs": [
    {
     "data": {
      "text/plain": [
       "<AxesSubplot:>"
      ]
     },
     "execution_count": 8,
     "metadata": {},
     "output_type": "execute_result"
    },
    {
     "data": {
      "image/png": "[encoded data removed]",
      "text/plain": [
       "<Figure size 432x288 with 2 Axes>"
      ]
     },
     "metadata": {
      "needs_background": "light"
     },
     "output_type": "display_data"
    }
   ],
   "source": [
    "\n",
    "\n",
    "sns.heatmap(tcm, annot=True, fmt=\".0f\", cmap=\"Blues\")"
   ]
  },
  {
   "cell_type": "code",
   "execution_count": 9,
   "metadata": {},
   "outputs": [
    {
     "data": {
      "text/plain": [
       "<AxesSubplot:>"
      ]
     },
     "execution_count": 9,
     "metadata": {},
     "output_type": "execute_result"
    },
    {
     "data": {
      "image/png": "[encoded data removed]",
      "text/plain": [
       "<Figure size 432x288 with 2 Axes>"
      ]
     },
     "metadata": {
      "needs_background": "light"
     },
     "output_type": "display_data"
    }
   ],
   "source": [
    "sns.heatmap(vcm, annot=True, fmt=\".0f\", cmap=\"Blues\")"
   ]
  }
 ],
 "metadata": {
  "interpreter": {
   "hash": "940b217460c8a39d0a8b23629c307f0e2ded337e7c817df93495751a77d018ae"
  },
  "kernelspec": {
   "display_name": "Python 3.9.4 ('venv': venv)",
   "language": "python",
   "name": "python3"
  },
  "language_info": {
   "codemirror_mode": {
    "name": "ipython",
    "version": 3
   },
   "file_extension": ".py",
   "mimetype": "text/x-python",
   "name": "python",
   "nbconvert_exporter": "python",
   "pygments_lexer": "ipython3",
   "version": "3.9.4"
  },
  "orig_nbformat": 4
 },
 "nbformat": 4,
 "nbformat_minor": 2
}
