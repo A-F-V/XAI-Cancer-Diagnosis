{
 "cells": [
  {
   "cell_type": "code",
   "execution_count": 3,
   "metadata": {},
   "outputs": [
    {
     "data": {
      "text/plain": [
       "'\\n{\\n  \"DEVICE\": \"cuda\",\\n  \"DATASET\": \"PanNuke\",\\n  \"RESNET_SIZE\": 50,\\n  \"RUN_NAME\": \"MD-1.1\",\\n  \"EXPERIMENT_ID\": 2,\\n  \"EXPERIMENT_NAME\": \"HoVerNet\",\\n  \"EPOCHS\": 50,\\n  \"BATCH_SIZE_TRAIN\": 20,\\n  \"BATCH_SIZE_VAL\": 4,\\n  \"MAX_LR\": 0.003,\\n  \"ONE_CYCLE\": true,\\n  \"START_LR\": 0.0005,\\n  \"NUM_WORKERS\": 3,\\n  \"START_CHECKPOINT\": null,\\n  \"EARLY_STOP\": false,\\n  \"LR_TEST\": false\\n}\\n'"
      ]
     },
     "execution_count": 3,
     "metadata": {},
     "output_type": "execute_result"
    }
   ],
   "source": [
    "# 1 - Pretrain on PanNuke\n",
    "\"\"\"\n",
    "{\n",
    "  \"DEVICE\": \"cuda\",\n",
    "  \"DATASET\": \"PanNuke\",\n",
    "  \"RESNET_SIZE\": 50,\n",
    "  \"RUN_NAME\": \"MD-1.1\",\n",
    "  \"EXPERIMENT_ID\": 2,\n",
    "  \"EXPERIMENT_NAME\": \"HoVerNet\",\n",
    "  \"EPOCHS\": 50,\n",
    "  \"BATCH_SIZE_TRAIN\": 20,\n",
    "  \"BATCH_SIZE_VAL\": 4,\n",
    "  \"MAX_LR\": 0.003,\n",
    "  \"ONE_CYCLE\": true,\n",
    "  \"START_LR\": 0.0005,\n",
    "  \"NUM_WORKERS\": 3,\n",
    "  \"START_CHECKPOINT\": null,\n",
    "  \"EARLY_STOP\": false,\n",
    "  \"LR_TEST\": false\n",
    "}\n",
    "\"\"\""
   ]
  }
 ],
 "metadata": {
  "interpreter": {
   "hash": "281c2a3310c6ee84981005ada6d27171c5222c196ec4eb053b8cd9b83c5ea575"
  },
  "kernelspec": {
   "display_name": "Python 3.9.4 64-bit ('venv': venv)",
   "language": "python",
   "name": "python3"
  },
  "language_info": {
   "codemirror_mode": {
    "name": "ipython",
    "version": 3
   },
   "file_extension": ".py",
   "mimetype": "text/x-python",
   "name": "python",
   "nbconvert_exporter": "python",
   "pygments_lexer": "ipython3",
   "version": "3.9.4"
  },
  "orig_nbformat": 4
 },
 "nbformat": 4,
 "nbformat_minor": 2
}
