{
 "cells": [
  {
   "cell_type": "markdown",
   "metadata": {},
   "source": [
    "# BACH Dataset Exploration"
   ]
  },
  {
   "cell_type": "markdown",
   "metadata": {},
   "source": [
    "[Check this out](https://iciar2018-challenge.grand-challenge.org/Data) for information about the structure of the dataset"
   ]
  },
  {
   "cell_type": "code",
   "execution_count": 2,
   "metadata": {},
   "outputs": [],
   "source": [
    "import os\n",
    "import sys\n",
    "\n",
    "parent = os.path.dirname(os.path.dirname(os.getcwd()))\n",
    "if parent not in sys.path:\n",
    "    sys.path.append(parent)\n",
    "    \n",
    "bach_train_folder = os.path.join(parent,\"data\",\"processed\",\"BACH_TRAIN\")"
   ]
  },
  {
   "cell_type": "markdown",
   "metadata": {},
   "source": [
    "# Structure\n",
    "There is a photos folder and a WSI (whole slide image) folder. In the photos folder, there are four smaller folders each containing 100 images. They are:\n",
    "- **Benign** - Non Cancerous\n",
    "- **InSitu** - Cancerous\n",
    "- **Invasive** - Cancerous\n",
    "- **Normal** - Non Cancerous"
   ]
  },
  {
   "cell_type": "code",
   "execution_count": 10,
   "metadata": {},
   "outputs": [],
   "source": [
    "from PIL import Image\n",
    "from torchvision.transforms import ToTensor\n",
    "img = Image.open(os.path.join(bach_train_folder,\"Benign\",\"b002.tif\"))\n",
    "#img.show()\n",
    "img = ToTensor()(img)"
   ]
  },
  {
   "cell_type": "markdown",
   "metadata": {},
   "source": [
    "# Segmentation Quality"
   ]
  },
  {
   "cell_type": "code",
   "execution_count": null,
   "metadata": {},
   "outputs": [],
   "source": [
    "# MODEL\n",
    "from src.model.architectures.graph_construction.hover_net import HoVerNet\n",
    "chkpt = \"HoVerNet_MD-1.1.ckpt\"\n",
    "chkpt_path = os.path.join(parent,\"experiments\",\"checkpoints\",chkpt)\n",
    "\n",
    "model = HoVerNet.load_from_checkpoint(chkpt_path, RESNET_SIZE=50,START_LR=0)"
   ]
  },
  {
   "cell_type": "code",
   "execution_count": 9,
   "metadata": {},
   "outputs": [],
   "source": [
    "from src.transforms.graph_construction.hovernet_post_processing import instance_mask_prediction_hovernet,cut_img_from_tile\n",
    "from src.transforms.graph_construction.percolation import hollow\n",
    "tile_size=32\n",
    "\n",
    "ins_pred = instance_mask_prediction_hovernet(model, img,tile_size)\n",
    "img_trans = cut_img_from_tile(img,tile_size)\n",
    "hl_pred = hollow(ins_pred)"
   ]
  },
  {
   "cell_type": "code",
   "execution_count": null,
   "metadata": {},
   "outputs": [],
   "source": [
    "from numpy.ma import masked_where\n",
    "import matplotlib.pyplot as plt\n",
    "from src.utilities.img_utilities import tensor_to_numpy\n",
    "\n",
    "f,ax = plt.subplots(1,1,figsize=(20,20))\n",
    "\n",
    "\n",
    "ax.imshow(tensor_to_numpy(img_trans))\n",
    "ax.imshow(masked_where(hl_pred!=0,hl_pred),cmap=\"nipy_spectral\",alpha=0.7)\n",
    "plt.show()"
   ]
  }
 ],
 "metadata": {
  "interpreter": {
   "hash": "f7881eae7eedef7ff6fb61e99cfc5a8f8f48182f4408277d19357aca9e038927"
  },
  "kernelspec": {
   "display_name": "Python 3.9.4 64-bit ('XAI-Cancer-Diagnosis-J1JccA5D': virtualenv)",
   "language": "python",
   "name": "python3"
  },
  "language_info": {
   "codemirror_mode": {
    "name": "ipython",
    "version": 3
   },
   "file_extension": ".py",
   "mimetype": "text/x-python",
   "name": "python",
   "nbconvert_exporter": "python",
   "pygments_lexer": "ipython3",
   "version": "3.9.4"
  },
  "orig_nbformat": 4
 },
 "nbformat": 4,
 "nbformat_minor": 2
}
