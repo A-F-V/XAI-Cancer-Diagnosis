{
 "cells": [
  {
   "cell_type": "markdown",
   "metadata": {},
   "source": [
    "# GNN Convergence"
   ]
  },
  {
   "cell_type": "code",
   "execution_count": 1,
   "metadata": {},
   "outputs": [],
   "source": [
    "import os,sys\n",
    "\n",
    "parent = os.path.dirname(os.path.dirname(os.getcwd()))\n",
    "if parent not in sys.path:\n",
    "    sys.path.append(parent)"
   ]
  },
  {
   "cell_type": "markdown",
   "metadata": {},
   "source": [
    "---"
   ]
  },
  {
   "cell_type": "code",
   "execution_count": 2,
   "metadata": {},
   "outputs": [],
   "source": [
    "# DATA\n",
    "\n",
    "train_ind, val_ind = [], []\n",
    "src_folder = os.path.join(parent, \"data\", \"processed\",\n",
    "                            \"BACH_TRAIN\")\n",
    "graph_split = os.path.join(src_folder, \"graph_ind.txt\")\n",
    "with open(graph_split, \"r\") as f:\n",
    "    l1 = f.readline().strip()\n",
    "    l2 = f.readline().strip()\n",
    "    train_ind = list(map(int, l1[1:-1].split(\",\")))\n",
    "    val_ind = list(map(int, l2[1:-1].split(\",\")))\n",
    "    \n",
    "from src.datasets.BACH import BACH\n",
    "from torch_geometric.loader.dataloader import DataLoader\n",
    "\n",
    "train_set, val_set = BACH(src_folder, ids=train_ind,pred_mode=True), BACH(src_folder, ids=val_ind,pred_mode=True)"
   ]
  },
  {
   "cell_type": "code",
   "execution_count": 3,
   "metadata": {},
   "outputs": [],
   "source": [
    "# PREDICTOR\n",
    "\n",
    "from src.predict_cancer import predict_cancer\n",
    "import torch\n",
    "from src.model.architectures.cancer_prediction.pred_gnn import PredGNN\n",
    "from torch_geometric.transforms import Compose, KNNGraph, RandomTranslate, Distance\n",
    "from torch.nn.functional import softmax\n",
    "\n",
    "gnn_voter_args = {\"LAYERS\": 8, \"WIDTH\": 4, \"GLOBAL_POOL\": \"MEAN\", \"RADIUS_FUNCTION\": \"NONE\", \"POOL_RATIO\": 1}\n",
    "graph_trans = Compose([KNNGraph(6),  Distance(norm=False, cat=False)])\n",
    "gnn_voter_loc=os.path.join(parent,\"model\", \"GNN_VOTER_RESNET.ckpt\")\n",
    "\n",
    "def predictor():\n",
    "    gnn_voter = PredGNN.load_from_checkpoint(gnn_voter_loc, **gnn_voter_args).eval().cuda()\n",
    "    #gnn_voter.intermediate_activations = {}\n",
    "    #def create_hook(layer):\n",
    "    #    def hook(m,i,o):\n",
    "    #        gnn_voter.intermediate_activations[layer] = softmax(o.cpu(),dim=1)\n",
    "    #    return hook \n",
    "    #for lay in range(gnn_voter_args[\"LAYERS\"]):\n",
    "    #    \n",
    "    #    gnn_voter.layer_end[lay].register_forward_hook(create_hook(lay))\n",
    "    return gnn_voter\n",
    "\n",
    "def vote_convergence(graph):\n",
    "    with torch.no_grad():\n",
    "        gnn_voter = predictor()\n",
    "        voting_graph = graph_trans(graph).cuda()\n",
    "        output,intermeddiate = gnn_voter(voting_graph.x, voting_graph.edge_index, voting_graph.edge_attr,\n",
    "                            torch.zeros(voting_graph.x.shape[0]).long().cuda()).squeeze()\n",
    "        return intermeddiate"
   ]
  },
  {
   "cell_type": "markdown",
   "metadata": {},
   "source": [
    "---"
   ]
  },
  {
   "cell_type": "code",
   "execution_count": 4,
   "metadata": {},
   "outputs": [
    {
     "ename": "KeyError",
     "evalue": "'model.6.conv.lin.weight'",
     "output_type": "error",
     "traceback": [
      "\u001b[1;31m---------------------------------------------------------------------------\u001b[0m",
      "\u001b[1;31mKeyError\u001b[0m                                  Traceback (most recent call last)",
      "Input \u001b[1;32mIn [4]\u001b[0m, in \u001b[0;36m<module>\u001b[1;34m\u001b[0m\n\u001b[0;32m      1\u001b[0m i \u001b[39m=\u001b[39m \u001b[39m2\u001b[39m\n\u001b[1;32m----> 2\u001b[0m sequence,edge_index,pos \u001b[39m=\u001b[39m vote_convergence(val_set[i]),val_set[i]\u001b[39m.\u001b[39medge_index,val_set[i]\u001b[39m.\u001b[39mpos\n",
      "Input \u001b[1;32mIn [3]\u001b[0m, in \u001b[0;36mvote_convergence\u001b[1;34m(graph)\u001b[0m\n\u001b[0;32m     25\u001b[0m \u001b[39mdef\u001b[39;00m \u001b[39mvote_convergence\u001b[39m(graph):\n\u001b[0;32m     26\u001b[0m     \u001b[39mwith\u001b[39;00m torch\u001b[39m.\u001b[39mno_grad():\n\u001b[1;32m---> 27\u001b[0m         gnn_voter \u001b[39m=\u001b[39m predictor()\n\u001b[0;32m     28\u001b[0m         voting_graph \u001b[39m=\u001b[39m graph_trans(graph)\u001b[39m.\u001b[39mcuda()\n\u001b[0;32m     29\u001b[0m         prediction \u001b[39m=\u001b[39m gnn_voter(voting_graph\u001b[39m.\u001b[39mx, voting_graph\u001b[39m.\u001b[39medge_index, voting_graph\u001b[39m.\u001b[39medge_attr,\n\u001b[0;32m     30\u001b[0m                             torch\u001b[39m.\u001b[39mzeros(voting_graph\u001b[39m.\u001b[39mx\u001b[39m.\u001b[39mshape[\u001b[39m0\u001b[39m])\u001b[39m.\u001b[39mlong()\u001b[39m.\u001b[39mcuda())\u001b[39m.\u001b[39msqueeze()\n",
      "Input \u001b[1;32mIn [3]\u001b[0m, in \u001b[0;36mpredictor\u001b[1;34m()\u001b[0m\n\u001b[0;32m     13\u001b[0m \u001b[39mdef\u001b[39;00m \u001b[39mpredictor\u001b[39m():\n\u001b[1;32m---> 14\u001b[0m     gnn_voter \u001b[39m=\u001b[39m PredGNN\u001b[39m.\u001b[39mload_from_checkpoint(gnn_voter_loc, \u001b[39m*\u001b[39m\u001b[39m*\u001b[39mgnn_voter_args)\u001b[39m.\u001b[39meval()\u001b[39m.\u001b[39mcuda()\n\u001b[0;32m     15\u001b[0m     gnn_voter\u001b[39m.\u001b[39mintermediate_activations \u001b[39m=\u001b[39m {}\n\u001b[0;32m     16\u001b[0m     \u001b[39mdef\u001b[39;00m \u001b[39mcreate_hook\u001b[39m(layer):\n",
      "File \u001b[1;32mc:\\Users\\aless\\Documents\\git\\XAI-Cancer-Diagnosis\\XAI-Cancer-Diagnosis\\venv\\lib\\site-packages\\pytorch_lightning\\core\\saving.py:156\u001b[0m, in \u001b[0;36mModelIO.load_from_checkpoint\u001b[1;34m(cls, checkpoint_path, map_location, hparams_file, strict, **kwargs)\u001b[0m\n\u001b[0;32m    <a href='file:///c%3A/Users/aless/Documents/git/XAI-Cancer-Diagnosis/XAI-Cancer-Diagnosis/venv/lib/site-packages/pytorch_lightning/core/saving.py?line=152'>153</a>\u001b[0m \u001b[39m# override the hparams with values that were passed in\u001b[39;00m\n\u001b[0;32m    <a href='file:///c%3A/Users/aless/Documents/git/XAI-Cancer-Diagnosis/XAI-Cancer-Diagnosis/venv/lib/site-packages/pytorch_lightning/core/saving.py?line=153'>154</a>\u001b[0m checkpoint[\u001b[39mcls\u001b[39m\u001b[39m.\u001b[39mCHECKPOINT_HYPER_PARAMS_KEY]\u001b[39m.\u001b[39mupdate(kwargs)\n\u001b[1;32m--> <a href='file:///c%3A/Users/aless/Documents/git/XAI-Cancer-Diagnosis/XAI-Cancer-Diagnosis/venv/lib/site-packages/pytorch_lightning/core/saving.py?line=155'>156</a>\u001b[0m model \u001b[39m=\u001b[39m \u001b[39mcls\u001b[39m\u001b[39m.\u001b[39m_load_model_state(checkpoint, strict\u001b[39m=\u001b[39mstrict, \u001b[39m*\u001b[39m\u001b[39m*\u001b[39mkwargs)\n\u001b[0;32m    <a href='file:///c%3A/Users/aless/Documents/git/XAI-Cancer-Diagnosis/XAI-Cancer-Diagnosis/venv/lib/site-packages/pytorch_lightning/core/saving.py?line=156'>157</a>\u001b[0m \u001b[39mreturn\u001b[39;00m model\n",
      "File \u001b[1;32mc:\\Users\\aless\\Documents\\git\\XAI-Cancer-Diagnosis\\XAI-Cancer-Diagnosis\\venv\\lib\\site-packages\\pytorch_lightning\\core\\saving.py:204\u001b[0m, in \u001b[0;36mModelIO._load_model_state\u001b[1;34m(cls, checkpoint, strict, **cls_kwargs_new)\u001b[0m\n\u001b[0;32m    <a href='file:///c%3A/Users/aless/Documents/git/XAI-Cancer-Diagnosis/XAI-Cancer-Diagnosis/venv/lib/site-packages/pytorch_lightning/core/saving.py?line=200'>201</a>\u001b[0m model\u001b[39m.\u001b[39mon_load_checkpoint(checkpoint)\n\u001b[0;32m    <a href='file:///c%3A/Users/aless/Documents/git/XAI-Cancer-Diagnosis/XAI-Cancer-Diagnosis/venv/lib/site-packages/pytorch_lightning/core/saving.py?line=202'>203</a>\u001b[0m \u001b[39m# load the state_dict on the model automatically\u001b[39;00m\n\u001b[1;32m--> <a href='file:///c%3A/Users/aless/Documents/git/XAI-Cancer-Diagnosis/XAI-Cancer-Diagnosis/venv/lib/site-packages/pytorch_lightning/core/saving.py?line=203'>204</a>\u001b[0m keys \u001b[39m=\u001b[39m model\u001b[39m.\u001b[39;49mload_state_dict(checkpoint[\u001b[39m\"\u001b[39;49m\u001b[39mstate_dict\u001b[39;49m\u001b[39m\"\u001b[39;49m], strict\u001b[39m=\u001b[39;49mstrict)\n\u001b[0;32m    <a href='file:///c%3A/Users/aless/Documents/git/XAI-Cancer-Diagnosis/XAI-Cancer-Diagnosis/venv/lib/site-packages/pytorch_lightning/core/saving.py?line=205'>206</a>\u001b[0m \u001b[39mif\u001b[39;00m \u001b[39mnot\u001b[39;00m strict:\n\u001b[0;32m    <a href='file:///c%3A/Users/aless/Documents/git/XAI-Cancer-Diagnosis/XAI-Cancer-Diagnosis/venv/lib/site-packages/pytorch_lightning/core/saving.py?line=206'>207</a>\u001b[0m     \u001b[39mif\u001b[39;00m keys\u001b[39m.\u001b[39mmissing_keys:\n",
      "File \u001b[1;32mc:\\Users\\aless\\Documents\\git\\XAI-Cancer-Diagnosis\\XAI-Cancer-Diagnosis\\venv\\lib\\site-packages\\torch\\nn\\modules\\module.py:1468\u001b[0m, in \u001b[0;36mModule.load_state_dict\u001b[1;34m(self, state_dict, strict)\u001b[0m\n\u001b[0;32m   <a href='file:///c%3A/Users/aless/Documents/git/XAI-Cancer-Diagnosis/XAI-Cancer-Diagnosis/venv/lib/site-packages/torch/nn/modules/module.py?line=1464'>1465</a>\u001b[0m         \u001b[39mif\u001b[39;00m child \u001b[39mis\u001b[39;00m \u001b[39mnot\u001b[39;00m \u001b[39mNone\u001b[39;00m:\n\u001b[0;32m   <a href='file:///c%3A/Users/aless/Documents/git/XAI-Cancer-Diagnosis/XAI-Cancer-Diagnosis/venv/lib/site-packages/torch/nn/modules/module.py?line=1465'>1466</a>\u001b[0m             load(child, prefix \u001b[39m+\u001b[39m name \u001b[39m+\u001b[39m \u001b[39m'\u001b[39m\u001b[39m.\u001b[39m\u001b[39m'\u001b[39m)\n\u001b[1;32m-> <a href='file:///c%3A/Users/aless/Documents/git/XAI-Cancer-Diagnosis/XAI-Cancer-Diagnosis/venv/lib/site-packages/torch/nn/modules/module.py?line=1467'>1468</a>\u001b[0m load(\u001b[39mself\u001b[39;49m)\n\u001b[0;32m   <a href='file:///c%3A/Users/aless/Documents/git/XAI-Cancer-Diagnosis/XAI-Cancer-Diagnosis/venv/lib/site-packages/torch/nn/modules/module.py?line=1468'>1469</a>\u001b[0m \u001b[39mdel\u001b[39;00m load\n\u001b[0;32m   <a href='file:///c%3A/Users/aless/Documents/git/XAI-Cancer-Diagnosis/XAI-Cancer-Diagnosis/venv/lib/site-packages/torch/nn/modules/module.py?line=1470'>1471</a>\u001b[0m \u001b[39mif\u001b[39;00m strict:\n",
      "File \u001b[1;32mc:\\Users\\aless\\Documents\\git\\XAI-Cancer-Diagnosis\\XAI-Cancer-Diagnosis\\venv\\lib\\site-packages\\torch\\nn\\modules\\module.py:1466\u001b[0m, in \u001b[0;36mModule.load_state_dict.<locals>.load\u001b[1;34m(module, prefix)\u001b[0m\n\u001b[0;32m   <a href='file:///c%3A/Users/aless/Documents/git/XAI-Cancer-Diagnosis/XAI-Cancer-Diagnosis/venv/lib/site-packages/torch/nn/modules/module.py?line=1463'>1464</a>\u001b[0m \u001b[39mfor\u001b[39;00m name, child \u001b[39min\u001b[39;00m module\u001b[39m.\u001b[39m_modules\u001b[39m.\u001b[39mitems():\n\u001b[0;32m   <a href='file:///c%3A/Users/aless/Documents/git/XAI-Cancer-Diagnosis/XAI-Cancer-Diagnosis/venv/lib/site-packages/torch/nn/modules/module.py?line=1464'>1465</a>\u001b[0m     \u001b[39mif\u001b[39;00m child \u001b[39mis\u001b[39;00m \u001b[39mnot\u001b[39;00m \u001b[39mNone\u001b[39;00m:\n\u001b[1;32m-> <a href='file:///c%3A/Users/aless/Documents/git/XAI-Cancer-Diagnosis/XAI-Cancer-Diagnosis/venv/lib/site-packages/torch/nn/modules/module.py?line=1465'>1466</a>\u001b[0m         load(child, prefix \u001b[39m+\u001b[39;49m name \u001b[39m+\u001b[39;49m \u001b[39m'\u001b[39;49m\u001b[39m.\u001b[39;49m\u001b[39m'\u001b[39;49m)\n",
      "File \u001b[1;32mc:\\Users\\aless\\Documents\\git\\XAI-Cancer-Diagnosis\\XAI-Cancer-Diagnosis\\venv\\lib\\site-packages\\torch\\nn\\modules\\module.py:1466\u001b[0m, in \u001b[0;36mModule.load_state_dict.<locals>.load\u001b[1;34m(module, prefix)\u001b[0m\n\u001b[0;32m   <a href='file:///c%3A/Users/aless/Documents/git/XAI-Cancer-Diagnosis/XAI-Cancer-Diagnosis/venv/lib/site-packages/torch/nn/modules/module.py?line=1463'>1464</a>\u001b[0m \u001b[39mfor\u001b[39;00m name, child \u001b[39min\u001b[39;00m module\u001b[39m.\u001b[39m_modules\u001b[39m.\u001b[39mitems():\n\u001b[0;32m   <a href='file:///c%3A/Users/aless/Documents/git/XAI-Cancer-Diagnosis/XAI-Cancer-Diagnosis/venv/lib/site-packages/torch/nn/modules/module.py?line=1464'>1465</a>\u001b[0m     \u001b[39mif\u001b[39;00m child \u001b[39mis\u001b[39;00m \u001b[39mnot\u001b[39;00m \u001b[39mNone\u001b[39;00m:\n\u001b[1;32m-> <a href='file:///c%3A/Users/aless/Documents/git/XAI-Cancer-Diagnosis/XAI-Cancer-Diagnosis/venv/lib/site-packages/torch/nn/modules/module.py?line=1465'>1466</a>\u001b[0m         load(child, prefix \u001b[39m+\u001b[39;49m name \u001b[39m+\u001b[39;49m \u001b[39m'\u001b[39;49m\u001b[39m.\u001b[39;49m\u001b[39m'\u001b[39;49m)\n",
      "    \u001b[1;31m[... skipping similar frames: Module.load_state_dict.<locals>.load at line 1466 (1 times)]\u001b[0m\n",
      "File \u001b[1;32mc:\\Users\\aless\\Documents\\git\\XAI-Cancer-Diagnosis\\XAI-Cancer-Diagnosis\\venv\\lib\\site-packages\\torch\\nn\\modules\\module.py:1466\u001b[0m, in \u001b[0;36mModule.load_state_dict.<locals>.load\u001b[1;34m(module, prefix)\u001b[0m\n\u001b[0;32m   <a href='file:///c%3A/Users/aless/Documents/git/XAI-Cancer-Diagnosis/XAI-Cancer-Diagnosis/venv/lib/site-packages/torch/nn/modules/module.py?line=1463'>1464</a>\u001b[0m \u001b[39mfor\u001b[39;00m name, child \u001b[39min\u001b[39;00m module\u001b[39m.\u001b[39m_modules\u001b[39m.\u001b[39mitems():\n\u001b[0;32m   <a href='file:///c%3A/Users/aless/Documents/git/XAI-Cancer-Diagnosis/XAI-Cancer-Diagnosis/venv/lib/site-packages/torch/nn/modules/module.py?line=1464'>1465</a>\u001b[0m     \u001b[39mif\u001b[39;00m child \u001b[39mis\u001b[39;00m \u001b[39mnot\u001b[39;00m \u001b[39mNone\u001b[39;00m:\n\u001b[1;32m-> <a href='file:///c%3A/Users/aless/Documents/git/XAI-Cancer-Diagnosis/XAI-Cancer-Diagnosis/venv/lib/site-packages/torch/nn/modules/module.py?line=1465'>1466</a>\u001b[0m         load(child, prefix \u001b[39m+\u001b[39;49m name \u001b[39m+\u001b[39;49m \u001b[39m'\u001b[39;49m\u001b[39m.\u001b[39;49m\u001b[39m'\u001b[39;49m)\n",
      "File \u001b[1;32mc:\\Users\\aless\\Documents\\git\\XAI-Cancer-Diagnosis\\XAI-Cancer-Diagnosis\\venv\\lib\\site-packages\\torch\\nn\\modules\\module.py:1462\u001b[0m, in \u001b[0;36mModule.load_state_dict.<locals>.load\u001b[1;34m(module, prefix)\u001b[0m\n\u001b[0;32m   <a href='file:///c%3A/Users/aless/Documents/git/XAI-Cancer-Diagnosis/XAI-Cancer-Diagnosis/venv/lib/site-packages/torch/nn/modules/module.py?line=1459'>1460</a>\u001b[0m \u001b[39mdef\u001b[39;00m \u001b[39mload\u001b[39m(module, prefix\u001b[39m=\u001b[39m\u001b[39m'\u001b[39m\u001b[39m'\u001b[39m):\n\u001b[0;32m   <a href='file:///c%3A/Users/aless/Documents/git/XAI-Cancer-Diagnosis/XAI-Cancer-Diagnosis/venv/lib/site-packages/torch/nn/modules/module.py?line=1460'>1461</a>\u001b[0m     local_metadata \u001b[39m=\u001b[39m {} \u001b[39mif\u001b[39;00m metadata \u001b[39mis\u001b[39;00m \u001b[39mNone\u001b[39;00m \u001b[39melse\u001b[39;00m metadata\u001b[39m.\u001b[39mget(prefix[:\u001b[39m-\u001b[39m\u001b[39m1\u001b[39m], {})\n\u001b[1;32m-> <a href='file:///c%3A/Users/aless/Documents/git/XAI-Cancer-Diagnosis/XAI-Cancer-Diagnosis/venv/lib/site-packages/torch/nn/modules/module.py?line=1461'>1462</a>\u001b[0m     module\u001b[39m.\u001b[39;49m_load_from_state_dict(\n\u001b[0;32m   <a href='file:///c%3A/Users/aless/Documents/git/XAI-Cancer-Diagnosis/XAI-Cancer-Diagnosis/venv/lib/site-packages/torch/nn/modules/module.py?line=1462'>1463</a>\u001b[0m         state_dict, prefix, local_metadata, \u001b[39mTrue\u001b[39;49;00m, missing_keys, unexpected_keys, error_msgs)\n\u001b[0;32m   <a href='file:///c%3A/Users/aless/Documents/git/XAI-Cancer-Diagnosis/XAI-Cancer-Diagnosis/venv/lib/site-packages/torch/nn/modules/module.py?line=1463'>1464</a>\u001b[0m     \u001b[39mfor\u001b[39;00m name, child \u001b[39min\u001b[39;00m module\u001b[39m.\u001b[39m_modules\u001b[39m.\u001b[39mitems():\n\u001b[0;32m   <a href='file:///c%3A/Users/aless/Documents/git/XAI-Cancer-Diagnosis/XAI-Cancer-Diagnosis/venv/lib/site-packages/torch/nn/modules/module.py?line=1464'>1465</a>\u001b[0m         \u001b[39mif\u001b[39;00m child \u001b[39mis\u001b[39;00m \u001b[39mnot\u001b[39;00m \u001b[39mNone\u001b[39;00m:\n",
      "File \u001b[1;32mc:\\Users\\aless\\Documents\\git\\XAI-Cancer-Diagnosis\\XAI-Cancer-Diagnosis\\venv\\lib\\site-packages\\torch\\nn\\modules\\module.py:1372\u001b[0m, in \u001b[0;36mModule._load_from_state_dict\u001b[1;34m(self, state_dict, prefix, local_metadata, strict, missing_keys, unexpected_keys, error_msgs)\u001b[0m\n\u001b[0;32m   <a href='file:///c%3A/Users/aless/Documents/git/XAI-Cancer-Diagnosis/XAI-Cancer-Diagnosis/venv/lib/site-packages/torch/nn/modules/module.py?line=1339'>1340</a>\u001b[0m \u001b[39mr\u001b[39m\u001b[39m\"\"\"Copies parameters and buffers from :attr:`state_dict` into only\u001b[39;00m\n\u001b[0;32m   <a href='file:///c%3A/Users/aless/Documents/git/XAI-Cancer-Diagnosis/XAI-Cancer-Diagnosis/venv/lib/site-packages/torch/nn/modules/module.py?line=1340'>1341</a>\u001b[0m \u001b[39mthis module, but not its descendants. This is called on every submodule\u001b[39;00m\n\u001b[0;32m   <a href='file:///c%3A/Users/aless/Documents/git/XAI-Cancer-Diagnosis/XAI-Cancer-Diagnosis/venv/lib/site-packages/torch/nn/modules/module.py?line=1341'>1342</a>\u001b[0m \u001b[39min :meth:`~torch.nn.Module.load_state_dict`. Metadata saved for this\u001b[39;00m\n\u001b[1;32m   (...)\u001b[0m\n\u001b[0;32m   <a href='file:///c%3A/Users/aless/Documents/git/XAI-Cancer-Diagnosis/XAI-Cancer-Diagnosis/venv/lib/site-packages/torch/nn/modules/module.py?line=1368'>1369</a>\u001b[0m \u001b[39m        :meth:`~torch.nn.Module.load_state_dict`\u001b[39;00m\n\u001b[0;32m   <a href='file:///c%3A/Users/aless/Documents/git/XAI-Cancer-Diagnosis/XAI-Cancer-Diagnosis/venv/lib/site-packages/torch/nn/modules/module.py?line=1369'>1370</a>\u001b[0m \u001b[39m\"\"\"\u001b[39;00m\n\u001b[0;32m   <a href='file:///c%3A/Users/aless/Documents/git/XAI-Cancer-Diagnosis/XAI-Cancer-Diagnosis/venv/lib/site-packages/torch/nn/modules/module.py?line=1370'>1371</a>\u001b[0m \u001b[39mfor\u001b[39;00m hook \u001b[39min\u001b[39;00m \u001b[39mself\u001b[39m\u001b[39m.\u001b[39m_load_state_dict_pre_hooks\u001b[39m.\u001b[39mvalues():\n\u001b[1;32m-> <a href='file:///c%3A/Users/aless/Documents/git/XAI-Cancer-Diagnosis/XAI-Cancer-Diagnosis/venv/lib/site-packages/torch/nn/modules/module.py?line=1371'>1372</a>\u001b[0m     hook(state_dict, prefix, local_metadata, strict, missing_keys, unexpected_keys, error_msgs)\n\u001b[0;32m   <a href='file:///c%3A/Users/aless/Documents/git/XAI-Cancer-Diagnosis/XAI-Cancer-Diagnosis/venv/lib/site-packages/torch/nn/modules/module.py?line=1373'>1374</a>\u001b[0m persistent_buffers \u001b[39m=\u001b[39m {k: v \u001b[39mfor\u001b[39;00m k, v \u001b[39min\u001b[39;00m \u001b[39mself\u001b[39m\u001b[39m.\u001b[39m_buffers\u001b[39m.\u001b[39mitems() \u001b[39mif\u001b[39;00m k \u001b[39mnot\u001b[39;00m \u001b[39min\u001b[39;00m \u001b[39mself\u001b[39m\u001b[39m.\u001b[39m_non_persistent_buffers_set}\n\u001b[0;32m   <a href='file:///c%3A/Users/aless/Documents/git/XAI-Cancer-Diagnosis/XAI-Cancer-Diagnosis/venv/lib/site-packages/torch/nn/modules/module.py?line=1374'>1375</a>\u001b[0m local_name_params \u001b[39m=\u001b[39m itertools\u001b[39m.\u001b[39mchain(\u001b[39mself\u001b[39m\u001b[39m.\u001b[39m_parameters\u001b[39m.\u001b[39mitems(), persistent_buffers\u001b[39m.\u001b[39mitems())\n",
      "File \u001b[1;32mc:\\Users\\aless\\Documents\\git\\XAI-Cancer-Diagnosis\\XAI-Cancer-Diagnosis\\venv\\lib\\site-packages\\torch_geometric\\nn\\dense\\linear.py:131\u001b[0m, in \u001b[0;36mLinear._lazy_load_hook\u001b[1;34m(self, state_dict, prefix, local_metadata, strict, missing_keys, unexpected_keys, error_msgs)\u001b[0m\n\u001b[0;32m    <a href='file:///c%3A/Users/aless/Documents/git/XAI-Cancer-Diagnosis/XAI-Cancer-Diagnosis/venv/lib/site-packages/torch_geometric/nn/dense/linear.py?line=127'>128</a>\u001b[0m \u001b[39mdef\u001b[39;00m \u001b[39m_lazy_load_hook\u001b[39m(\u001b[39mself\u001b[39m, state_dict, prefix, local_metadata, strict,\n\u001b[0;32m    <a href='file:///c%3A/Users/aless/Documents/git/XAI-Cancer-Diagnosis/XAI-Cancer-Diagnosis/venv/lib/site-packages/torch_geometric/nn/dense/linear.py?line=128'>129</a>\u001b[0m                     missing_keys, unexpected_keys, error_msgs):\n\u001b[1;32m--> <a href='file:///c%3A/Users/aless/Documents/git/XAI-Cancer-Diagnosis/XAI-Cancer-Diagnosis/venv/lib/site-packages/torch_geometric/nn/dense/linear.py?line=130'>131</a>\u001b[0m     weight \u001b[39m=\u001b[39m state_dict[prefix \u001b[39m+\u001b[39;49m \u001b[39m'\u001b[39;49m\u001b[39mweight\u001b[39;49m\u001b[39m'\u001b[39;49m]\n\u001b[0;32m    <a href='file:///c%3A/Users/aless/Documents/git/XAI-Cancer-Diagnosis/XAI-Cancer-Diagnosis/venv/lib/site-packages/torch_geometric/nn/dense/linear.py?line=131'>132</a>\u001b[0m     \u001b[39mif\u001b[39;00m \u001b[39misinstance\u001b[39m(weight, nn\u001b[39m.\u001b[39mparameter\u001b[39m.\u001b[39mUninitializedParameter):\n\u001b[0;32m    <a href='file:///c%3A/Users/aless/Documents/git/XAI-Cancer-Diagnosis/XAI-Cancer-Diagnosis/venv/lib/site-packages/torch_geometric/nn/dense/linear.py?line=132'>133</a>\u001b[0m         \u001b[39mself\u001b[39m\u001b[39m.\u001b[39min_channels \u001b[39m=\u001b[39m \u001b[39m-\u001b[39m\u001b[39m1\u001b[39m\n",
      "\u001b[1;31mKeyError\u001b[0m: 'model.6.conv.lin.weight'"
     ]
    }
   ],
   "source": [
    "i = 2\n",
    "sequence,edge_index,pos = vote_convergence(val_set[i]),val_set[i].edge_index,val_set[i].pos"
   ]
  },
  {
   "cell_type": "markdown",
   "metadata": {},
   "source": [
    "---\n",
    "## Graph Vizualization"
   ]
  },
  {
   "cell_type": "code",
   "execution_count": null,
   "metadata": {},
   "outputs": [],
   "source": [
    "import networkx as nx\n",
    "from torch_geometric.utils import to_networkx\n",
    "from src.transforms.graph_augmentation.largest_component import LargestComponent\n",
    "from torch_geometric.transforms import KNNGraph,Compose,Distance, RandomTranslate\n",
    "import matplotlib.pyplot as plt\n",
    "\n",
    "def viz_graph_nx(graph):\n",
    "    \n",
    "#\"b\", \"is\", \"iv\", \"n\"\n",
    "    c = [\"white\",\"green\",\"red\",\"black\",\"blue\"]\n",
    "    colours = list(map(lambda x: c[x],((graph.x.argmax(dim=1)+1)*(graph.x.max(dim=1).values>0.4).int()).tolist()))\n",
    "\n",
    "    G = to_networkx(graph,to_undirected=True)\n",
    "    pos = {i:tuple(graph.pos[i]) for i in range(len(graph.pos))}\n",
    "\n",
    "\n",
    "    nx.draw(G,pos=pos,node_color=colours)"
   ]
  },
  {
   "cell_type": "code",
   "execution_count": null,
   "metadata": {},
   "outputs": [],
   "source": [
    "import matplotlib.pyplot as plt\n",
    "\n",
    "import imageio\n",
    "import io\n",
    "import matplotlib.pyplot as plt\n",
    "\n",
    "from src.utilities.img_utilities import tensor_to_numpy\n",
    "from src.transforms.graph_construction.hover_maps import hover_map\n",
    "from tqdm import tqdm\n",
    "import os\n",
    "from numpy.ma import masked_where\n",
    "from src.transforms.graph_construction.hovernet_post_processing import hovernet_post_process\n",
    "from src.transforms.graph_construction.percolation import hollow\n",
    "from torch_geometric.data import Data\n",
    "\n",
    "\n",
    "def graph_vote_convergence_animation(intermediate_x, edge_index, pos,location,  fps=10):\n",
    "    with imageio.get_writer(location, mode='I', fps=fps, format=\"gif\") as writer:\n",
    "        for frame in tqdm(range(0,len(intermediate_x)), desc=\"Generating Voting Graph GIF\"):\n",
    "            f,ax = plt.subplots(1,1,figsize=(40,40))\n",
    "            graph = Data(x=intermediate_x[frame], edge_index=edge_index, pos=pos)\n",
    "            viz_graph_nx(graph)\n",
    "            \n",
    "            ax.set_title(f\"{frame}\")\n",
    "            buf = io.BytesIO()\n",
    "            plt.savefig(buf, format='png')\n",
    "            plt_img = imageio.imread(buf)\n",
    "            writer.append_data(plt_img)"
   ]
  },
  {
   "cell_type": "code",
   "execution_count": null,
   "metadata": {},
   "outputs": [],
   "source": [
    "graph_vote_convergence_animation(sequence,edge_index=edge_index,pos=pos,location=os.path.join(parent,\"voting_graph.gif\"),fps=3)"
   ]
  }
 ],
 "metadata": {
  "interpreter": {
   "hash": "940b217460c8a39d0a8b23629c307f0e2ded337e7c817df93495751a77d018ae"
  },
  "kernelspec": {
   "display_name": "Python 3.9.4 ('venv': venv)",
   "language": "python",
   "name": "python3"
  },
  "language_info": {
   "codemirror_mode": {
    "name": "ipython",
    "version": 3
   },
   "file_extension": ".py",
   "mimetype": "text/x-python",
   "name": "python",
   "nbconvert_exporter": "python",
   "pygments_lexer": "ipython3",
   "version": "3.9.4"
  },
  "orig_nbformat": 4
 },
 "nbformat": 4,
 "nbformat_minor": 2
}
