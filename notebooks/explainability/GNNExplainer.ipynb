{
 "cells": [
  {
   "cell_type": "markdown",
   "metadata": {},
   "source": [
    "# GCExplainer"
   ]
  },
  {
   "cell_type": "code",
   "execution_count": 1,
   "metadata": {},
   "outputs": [],
   "source": [
    "import os,sys\n",
    "\n",
    "parent = os.path.dirname(os.path.dirname(os.getcwd()))\n",
    "if parent not in sys.path:\n",
    "    sys.path.append(parent)"
   ]
  },
  {
   "cell_type": "markdown",
   "metadata": {},
   "source": [
    "---"
   ]
  },
  {
   "cell_type": "markdown",
   "metadata": {},
   "source": [
    "### Model & Data"
   ]
  },
  {
   "cell_type": "code",
   "execution_count": 2,
   "metadata": {},
   "outputs": [
    {
     "name": "stdout",
     "output_type": "stream",
     "text": [
      "308\n",
      "76\n"
     ]
    }
   ],
   "source": [
    "# Data\n",
    "\n",
    "from src.datasets.BACH import BACH\n",
    "from torch_geometric.loader import DataLoader\n",
    "\n",
    "src_folder  = \"C:\\\\Users\\\\aless\\\\Documents\\\\data\"\n",
    "tid,vid = BACH.get_train_val_ids(src_folder)\n",
    "train_set = BACH(src_folder,ids=tid,pre_encoded=True)\n",
    "val_set = BACH(src_folder,ids=vid,pre_encoded=True)\n",
    "\n",
    "train_loader = DataLoader(train_set, batch_size=1, shuffle=True)\n",
    "val_loader = DataLoader(val_set, batch_size=1, shuffle=True)\n",
    "\n",
    "print(len(train_loader))\n",
    "print(len(val_loader))"
   ]
  },
  {
   "cell_type": "code",
   "execution_count": 43,
   "metadata": {},
   "outputs": [
    {
     "name": "stdout",
     "output_type": "stream",
     "text": [
      "Sequential(\n",
      "  (0): Dropout(p=0.8, inplace=False)\n",
      "  (1): Linear(in_features=32, out_features=16, bias=True)\n",
      "  (2): BatchNorm1d(16, eps=1e-05, momentum=0.1, affine=True, track_running_stats=True)\n",
      "  (3): ReLU()\n",
      "  (4): Dropout(p=0.8, inplace=False)\n",
      "  (5): Linear(in_features=16, out_features=4, bias=True)\n",
      ")\n"
     ]
    }
   ],
   "source": [
    "# Model\n",
    "\n",
    "from src.model.architectures.cancer_prediction.cancer_gnn import CancerGNN\n",
    "\n",
    "model = CancerGNN.load_from_checkpoint(os.path.join(parent,\"model\", \"GCNTopK_2.ckpt\"),WIDTH=32)\n",
    "model.eval()\n",
    "model.requires_grad_(False)\n",
    "print(model.gnn.predictor)"
   ]
  },
  {
   "cell_type": "markdown",
   "metadata": {},
   "source": [
    "---\n",
    "## Dataset Metrics"
   ]
  },
  {
   "cell_type": "code",
   "execution_count": 44,
   "metadata": {},
   "outputs": [
    {
     "name": "stdout",
     "output_type": "stream",
     "text": [
      "Training Loss tensor(0.4821)\n",
      "Validation Loss tensor(0.6527)\n",
      "Training Accuracy tensor(0.8669)\n",
      "Validation Accuracy tensor(0.7632)\n",
      "Training Cancer Accuracy tensor([0.9416])\n",
      "Validation Cancer Accuracy tensor([0.8553])\n"
     ]
    }
   ],
   "source": [
    "import torch\n",
    "def calculate_set_metric(loader,model,metric):\n",
    "    tot = 0\n",
    "    for batch in loader:\n",
    "        ans = model(batch.x,batch.edge_index,batch.batch)\n",
    "        tot += metric(ans,batch.y)\n",
    "    return tot/len(loader)\n",
    "\n",
    "def accuracy(ans,y):\n",
    "    y_hat = ans.argmax(dim=1)\n",
    "    return (y_hat == y).sum()\n",
    "\n",
    "def cancer_accuracy(ans,y):\n",
    "    y_hat = ans.argmax(dim=1)\n",
    "    return (y_hat <=1) ==(y<=1 ).sum()\n",
    "    \n",
    "print(\"Training Loss\",calculate_set_metric(train_loader,model,torch.nn.CrossEntropyLoss()))\n",
    "print(\"Validation Loss\",calculate_set_metric(val_loader,model,torch.nn.CrossEntropyLoss()))\n",
    "print(\"Training Accuracy\",calculate_set_metric(train_loader,model,accuracy))\n",
    "print(\"Validation Accuracy\",calculate_set_metric(val_loader,model,accuracy))\n",
    "print(\"Training Cancer Accuracy\",calculate_set_metric(train_loader,model,cancer_accuracy))\n",
    "print(\"Validation Cancer Accuracy\",calculate_set_metric(val_loader,model,cancer_accuracy))\n"
   ]
  },
  {
   "cell_type": "markdown",
   "metadata": {},
   "source": [
    "---"
   ]
  },
  {
   "cell_type": "markdown",
   "metadata": {},
   "source": [
    "### Get Raw Activations"
   ]
  },
  {
   "cell_type": "code",
   "execution_count": 45,
   "metadata": {},
   "outputs": [
    {
     "data": {
      "text/plain": [
       "<torch.utils.hooks.RemovableHandle at 0x29ae9c53760>"
      ]
     },
     "execution_count": 45,
     "metadata": {},
     "output_type": "execute_result"
    }
   ],
   "source": [
    "\n",
    "# Attach the hook\n",
    "\n",
    "batch = next(iter(train_loader))\n",
    "raw_activations = torch.zeros(0,32)\n",
    "\n",
    "def append_raw_activations(self, input, output):\n",
    "    global raw_activations\n",
    "    raw_activations = torch.cat((raw_activations,output[0]),dim=0)\n",
    "\n",
    "\n",
    "\n",
    "model.gnn.pool[-1].register_forward_hook(append_raw_activations)\n",
    "\n"
   ]
  },
  {
   "cell_type": "code",
   "execution_count": 46,
   "metadata": {},
   "outputs": [],
   "source": [
    "# Acquire the activations\n",
    "raw_activations = torch.zeros(0,32)\n",
    "\n",
    "for batch in train_loader:\n",
    "    model(batch.x,batch.edge_index,batch.batch)\n",
    "    \n",
    "#for batch in val_loader:\n",
    "#    model(batch.x,batch.edge_index,batch.batch)"
   ]
  },
  {
   "cell_type": "code",
   "execution_count": 47,
   "metadata": {},
   "outputs": [
    {
     "name": "stdout",
     "output_type": "stream",
     "text": [
      "torch.Size([70323, 32])\n"
     ]
    }
   ],
   "source": [
    "print(raw_activations.shape)"
   ]
  },
  {
   "cell_type": "markdown",
   "metadata": {},
   "source": [
    "---\n",
    "# K Means"
   ]
  },
  {
   "cell_type": "code",
   "execution_count": 180,
   "metadata": {},
   "outputs": [],
   "source": [
    "\n",
    "from scipy.cluster.vq import kmeans,whiten\n",
    "import numpy as np\n",
    "k = 10\n",
    "\n",
    "tsne_size = 5000\n",
    "\n",
    "\n",
    "obs = raw_activations.detach().numpy()\n",
    "obs_white = whiten(obs)\n",
    "means,_ = kmeans(obs_white,k_or_guess=k)\n",
    "\n",
    "obs = obs[np.random.choice(np.arange(len(obs)),size=tsne_size,replace=False)]\n",
    "obs_white = whiten(obs)\n"
   ]
  },
  {
   "cell_type": "code",
   "execution_count": 181,
   "metadata": {},
   "outputs": [],
   "source": [
    "def nearest_mean(x,means):\n",
    "\n",
    "    delta = (means - x)**2\n",
    "    dists = delta.sum(axis=1)\n",
    "    return dists.argmin()\n",
    "\n",
    "def cluster(obs,means,k):\n",
    "    clusters = [[] for i in range(k)]\n",
    "    for i,x in enumerate(obs):\n",
    "        clusters[nearest_mean(x,means)].append(i)\n",
    "    return clusters\n",
    "clusters = cluster(obs,means,k)"
   ]
  },
  {
   "cell_type": "code",
   "execution_count": 182,
   "metadata": {},
   "outputs": [
    {
     "name": "stdout",
     "output_type": "stream",
     "text": [
      "[256, 479, 519, 200, 510, 1255, 285, 785, 327, 384]\n"
     ]
    }
   ],
   "source": [
    "print(list(map(len,clusters)))"
   ]
  },
  {
   "cell_type": "markdown",
   "metadata": {},
   "source": [
    "---\n",
    "# Vizualize Explanations"
   ]
  },
  {
   "cell_type": "code",
   "execution_count": 183,
   "metadata": {},
   "outputs": [
    {
     "name": "stdout",
     "output_type": "stream",
     "text": [
      "[t-SNE] Computing 301 nearest neighbors...\n",
      "[t-SNE] Indexed 5000 samples in 0.001s...\n",
      "[t-SNE] Computed neighbors for 5000 samples in 0.565s...\n",
      "[t-SNE] Computed conditional probabilities for sample 1000 / 5000\n",
      "[t-SNE] Computed conditional probabilities for sample 2000 / 5000\n",
      "[t-SNE] Computed conditional probabilities for sample 3000 / 5000\n",
      "[t-SNE] Computed conditional probabilities for sample 4000 / 5000\n",
      "[t-SNE] Computed conditional probabilities for sample 5000 / 5000\n",
      "[t-SNE] Mean sigma: 1.415986\n",
      "[t-SNE] Computed conditional probabilities in 0.313s\n"
     ]
    },
    {
     "name": "stderr",
     "output_type": "stream",
     "text": [
      "d:\\Documents\\git\\XAI-Cancer-Diagnosis\\XAI-Cancer-Diagnosis\\venv\\lib\\site-packages\\sklearn\\manifold\\_t_sne.py:982: FutureWarning: The PCA initialization in TSNE will change to have the standard deviation of PC1 equal to 1e-4 in 1.2. This will ensure better convergence.\n",
      "  warnings.warn(\n"
     ]
    },
    {
     "name": "stdout",
     "output_type": "stream",
     "text": [
      "[t-SNE] Iteration 50: error = 57.7103729, gradient norm = 0.0135004 (50 iterations in 1.043s)\n",
      "[t-SNE] Iteration 100: error = 60.1777382, gradient norm = 0.0082272 (50 iterations in 1.088s)\n",
      "[t-SNE] Iteration 150: error = 62.1874886, gradient norm = 0.0082361 (50 iterations in 1.062s)\n",
      "[t-SNE] Iteration 200: error = 64.3556824, gradient norm = 0.0008644 (50 iterations in 1.024s)\n",
      "[t-SNE] Iteration 250: error = 64.5791473, gradient norm = 0.0000886 (50 iterations in 0.982s)\n",
      "[t-SNE] KL divergence after 250 iterations with early exaggeration: 64.579147\n",
      "[t-SNE] Iteration 300: error = 1.3298819, gradient norm = 0.0014083 (50 iterations in 0.982s)\n",
      "[t-SNE] Iteration 350: error = 1.0297500, gradient norm = 0.0005311 (50 iterations in 1.036s)\n",
      "[t-SNE] Iteration 400: error = 0.9253798, gradient norm = 0.0002903 (50 iterations in 0.961s)\n",
      "[t-SNE] Iteration 450: error = 0.8768941, gradient norm = 0.0001759 (50 iterations in 0.968s)\n",
      "[t-SNE] Iteration 500: error = 0.8502001, gradient norm = 0.0001204 (50 iterations in 0.967s)\n",
      "[t-SNE] Iteration 550: error = 0.8341457, gradient norm = 0.0000871 (50 iterations in 0.975s)\n",
      "[t-SNE] Iteration 600: error = 0.8241313, gradient norm = 0.0000703 (50 iterations in 0.995s)\n",
      "[t-SNE] Iteration 650: error = 0.8179374, gradient norm = 0.0000604 (50 iterations in 0.991s)\n",
      "[t-SNE] Iteration 700: error = 0.8139254, gradient norm = 0.0000525 (50 iterations in 1.083s)\n",
      "[t-SNE] Iteration 750: error = 0.8112863, gradient norm = 0.0000460 (50 iterations in 0.962s)\n",
      "[t-SNE] Iteration 800: error = 0.8096386, gradient norm = 0.0000422 (50 iterations in 0.985s)\n",
      "[t-SNE] Iteration 850: error = 0.8084760, gradient norm = 0.0000359 (50 iterations in 1.011s)\n",
      "[t-SNE] Iteration 900: error = 0.8075615, gradient norm = 0.0000320 (50 iterations in 0.975s)\n",
      "[t-SNE] Iteration 950: error = 0.8067271, gradient norm = 0.0000297 (50 iterations in 1.001s)\n",
      "[t-SNE] Iteration 1000: error = 0.8060099, gradient norm = 0.0000304 (50 iterations in 0.975s)\n",
      "[t-SNE] KL divergence after 1000 iterations: 0.806010\n"
     ]
    }
   ],
   "source": [
    "\n",
    "from sklearn.manifold import TSNE\n",
    "from sklearn.decomposition import PCA, KernelPCA\n",
    "\n",
    "\n",
    "\n",
    "t =TSNE(n_components=2,learning_rate ='auto',init=\"pca\",verbose=2,perplexity = 100,n_iter=1000).fit_transform(obs)\n",
    "#reducer = PCA(n_components=2).fit(obs)\n",
    "#reducer = KernelPCA(n_components=2,kernel=\"rbf\",degree=2).fit(smaller_obs)"
   ]
  },
  {
   "cell_type": "code",
   "execution_count": 141,
   "metadata": {},
   "outputs": [],
   "source": [
    "\n",
    "import matplotlib.pyplot as plt\n",
    "from matplotlib import cm\n",
    "\n",
    "def plot_clusters(cluster_ids,values):\n",
    "    colours = cm.rainbow(np.linspace(0,1,len(cluster_ids)))\n",
    "    for i,clust_ids in enumerate(cluster_ids):\n",
    "        v = values[clust_ids]\n",
    "        x,y = v[:,0],v[:,1]\n",
    "        plt.scatter(x,y,color=colours[i])\n"
   ]
  },
  {
   "cell_type": "code",
   "execution_count": 184,
   "metadata": {},
   "outputs": [
    {
     "data": {
      "image/png": "[encoded data removed]",
      "text/plain": [
       "<Figure size 432x288 with 1 Axes>"
      ]
     },
     "metadata": {
      "needs_background": "light"
     },
     "output_type": "display_data"
    }
   ],
   "source": [
    "plot_clusters(clusters,t)\n",
    "plt.show()"
   ]
  },
  {
   "cell_type": "markdown",
   "metadata": {},
   "source": [
    "---\n",
    "# Concept Completeness"
   ]
  },
  {
   "cell_type": "code",
   "execution_count": 57,
   "metadata": {},
   "outputs": [
    {
     "data": {
      "text/plain": [
       "<torch.utils.hooks.RemovableHandle at 0x29ae9c56070>"
      ]
     },
     "execution_count": 57,
     "metadata": {},
     "output_type": "execute_result"
    }
   ],
   "source": [
    "# Activation Graph to Concept Graph\n",
    "\n",
    "\n",
    "# Attach the hook\n",
    "\n",
    "activation_graphs = []\n",
    "\n",
    "def save_activation_graph(self, input, output):\n",
    "    global activation_graphs\n",
    "    activation_graphs.append(output)\n",
    "\n",
    "\n",
    "\n",
    "model.gnn.pool[-1].register_forward_hook(save_activation_graph)\n",
    "\n"
   ]
  },
  {
   "cell_type": "code",
   "execution_count": 185,
   "metadata": {},
   "outputs": [],
   "source": [
    "from torch.nn.functional import one_hot\n",
    "\n",
    "def activation_to_concept(activation):\n",
    "    return one_hot(torch.as_tensor(nearest_mean(activation,means)),len(means))\n",
    "\n",
    "def activation_to_concept_graph(activation_graph):\n",
    "    output = torch.zeros(0,k)\n",
    "    for i in range(len(activation_graph[0])):\n",
    "        concept = activation_to_concept(activation_graph[0][i].numpy()).unsqueeze(0)\n",
    "        output = torch.cat([output,concept],dim=0)\n",
    "    return output\n",
    "\n",
    "\n",
    "def predict_concept_graph(graph):\n",
    "    global activation_graphs\n",
    "    activation_graphs = []\n",
    "    model(graph.x,graph.edge_index,graph.batch)\n",
    "    ag = activation_graphs[0]\n",
    "    return activation_to_concept_graph(ag)\n",
    "\n"
   ]
  },
  {
   "cell_type": "code",
   "execution_count": 186,
   "metadata": {},
   "outputs": [],
   "source": [
    "def concept_vs_cancer(loader): return [(predict_concept_graph(batch).mean(dim=0),batch.y) for batch in loader]"
   ]
  },
  {
   "cell_type": "code",
   "execution_count": 187,
   "metadata": {},
   "outputs": [],
   "source": [
    "x_train = list(map(lambda x:list(map(lambda y:y.item(),x[0])),concept_vs_cancer(train_loader)))\n",
    "y_train = list(map(lambda x:x[1].item(),concept_vs_cancer(train_loader)))\n",
    "\n",
    "x_val = list(map(lambda x:list(map(lambda y:y.item(),x[0])),concept_vs_cancer(val_loader)))\n",
    "y_val = list(map(lambda x:x[1].item(),concept_vs_cancer(val_loader)))"
   ]
  },
  {
   "cell_type": "markdown",
   "metadata": {},
   "source": [
    "---\n",
    "### CBE"
   ]
  },
  {
   "cell_type": "code",
   "execution_count": 203,
   "metadata": {},
   "outputs": [
    {
     "name": "stdout",
     "output_type": "stream",
     "text": [
      "0.9545454545454546\n",
      "0.3157894736842105\n"
     ]
    }
   ],
   "source": [
    "## Linear Model\n",
    "from sklearn.neural_network import MLPClassifier\n",
    "from sklearn.ensemble import RandomForestClassifier\n",
    "\n",
    "l = RandomForestClassifier(n_estimators=10000,max_depth=1000,random_state=0).fit(x_train,y_train)\n",
    "\n",
    "print((l.predict(x_train) == y_train).mean())\n",
    "print((l.predict(x_val) == y_val).mean())\n",
    "\n"
   ]
  },
  {
   "cell_type": "code",
   "execution_count": 123,
   "metadata": {},
   "outputs": [
    {
     "data": {
      "image/png": "[encoded data removed]",
      "text/plain": [
       "<Figure size 432x288 with 1 Axes>"
      ]
     },
     "metadata": {
      "needs_background": "light"
     },
     "output_type": "display_data"
    }
   ],
   "source": [
    "import sklearn.tree as tree\n",
    "\n",
    "dectree = tree.DecisionTreeClassifier(max_depth=5,criterion=\"entropy\").fit(x_train,y_train)\n",
    "tree.plot_tree(dectree)\n",
    "pass"
   ]
  },
  {
   "cell_type": "code",
   "execution_count": 124,
   "metadata": {},
   "outputs": [
    {
     "data": {
      "text/plain": [
       "0.487012987012987"
      ]
     },
     "execution_count": 124,
     "metadata": {},
     "output_type": "execute_result"
    }
   ],
   "source": [
    "(dectree.predict(x_train) == y_train).mean()"
   ]
  },
  {
   "cell_type": "code",
   "execution_count": 125,
   "metadata": {},
   "outputs": [
    {
     "data": {
      "text/plain": [
       "0.19736842105263158"
      ]
     },
     "execution_count": 125,
     "metadata": {},
     "output_type": "execute_result"
    }
   ],
   "source": [
    "(dectree.predict(x_val) == y_val).mean()"
   ]
  }
 ],
 "metadata": {
  "interpreter": {
   "hash": "e591b006129f0dfb1d51895b4ed619a4625402ac1a377124080c35d47fc6e9a2"
  },
  "kernelspec": {
   "display_name": "Python 3.9.4 ('venv': venv)",
   "language": "python",
   "name": "python3"
  },
  "language_info": {
   "codemirror_mode": {
    "name": "ipython",
    "version": 3
   },
   "file_extension": ".py",
   "mimetype": "text/x-python",
   "name": "python",
   "nbconvert_exporter": "python",
   "pygments_lexer": "ipython3",
   "version": "3.9.4"
  },
  "orig_nbformat": 4
 },
 "nbformat": 4,
 "nbformat_minor": 2
}
