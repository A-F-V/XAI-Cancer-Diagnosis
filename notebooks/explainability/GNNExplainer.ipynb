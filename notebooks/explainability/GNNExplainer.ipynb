{
 "cells": [
  {
   "cell_type": "markdown",
   "metadata": {},
   "source": [
    "# GNNExplainer"
   ]
  },
  {
   "cell_type": "code",
   "execution_count": 1,
   "metadata": {},
   "outputs": [],
   "source": [
    "import os,sys\n",
    "\n",
    "parent = os.path.dirname(os.path.dirname(os.getcwd()))\n",
    "if parent not in sys.path:\n",
    "    sys.path.append(parent)"
   ]
  },
  {
   "cell_type": "markdown",
   "metadata": {},
   "source": [
    "---"
   ]
  },
  {
   "cell_type": "markdown",
   "metadata": {},
   "source": [
    "### Model & Data"
   ]
  },
  {
   "cell_type": "code",
   "execution_count": 2,
   "metadata": {},
   "outputs": [
    {
     "name": "stdout",
     "output_type": "stream",
     "text": [
      "308\n",
      "76\n"
     ]
    }
   ],
   "source": [
    "# Data\n",
    "\n",
    "from src.datasets.BACH import BACH\n",
    "from torch_geometric.loader import DataLoader\n",
    "from torch_geometric.transforms import Compose, KNNGraph\n",
    "\n",
    "graph_aug_val = Compose([KNNGraph(k=6)])\n",
    "\n",
    "src_folder  = \"C:\\\\Users\\\\aless\\\\Documents\\\\data\"\n",
    "tid,vid = BACH.get_train_val_ids(src_folder)\n",
    "train_set = BACH(src_folder,graph_augmentation=graph_aug_val,ids=tid,pre_encoded=True)\n",
    "val_set = BACH(src_folder,graph_augmentation=graph_aug_val,ids=vid,pre_encoded=True)\n",
    "\n",
    "train_loader = DataLoader(train_set, batch_size=1, shuffle=True)\n",
    "val_loader = DataLoader(val_set, batch_size=1, shuffle=True)\n",
    "\n",
    "print(len(train_loader))\n",
    "print(len(val_loader))"
   ]
  },
  {
   "cell_type": "code",
   "execution_count": 3,
   "metadata": {},
   "outputs": [
    {
     "name": "stdout",
     "output_type": "stream",
     "text": [
      "Sequential(\n",
      "  (0): Dropout(p=0.3, inplace=False)\n",
      "  (1): Linear(in_features=64, out_features=32, bias=True)\n",
      "  (2): BatchNorm1d(32, eps=1e-05, momentum=0.01, affine=True, track_running_stats=True)\n",
      "  (3): ReLU()\n",
      "  (4): Dropout(p=0.0, inplace=False)\n",
      "  (5): Linear(in_features=32, out_features=4, bias=True)\n",
      ")\n"
     ]
    }
   ],
   "source": [
    "# Model\n",
    "\n",
    "from src.model.architectures.cancer_prediction.cancer_gnn import CancerGNN\n",
    "\n",
    "model = CancerGNN.load_from_checkpoint(os.path.join(parent,\"model\", \"GCN.ckpt\"),WIDTH=32)\n",
    "model.eval()\n",
    "model.requires_grad_(False)\n",
    "print(model.predictor)"
   ]
  },
  {
   "cell_type": "markdown",
   "metadata": {},
   "source": [
    "---\n",
    "## Dataset Metrics"
   ]
  },
  {
   "cell_type": "code",
   "execution_count": 4,
   "metadata": {},
   "outputs": [
    {
     "name": "stdout",
     "output_type": "stream",
     "text": [
      "Training Loss tensor(0.3235)\n",
      "Validation Loss tensor(0.5943)\n",
      "Training Accuracy tensor(0.9221)\n",
      "Validation Accuracy tensor(0.8158)\n",
      "Training Cancer Accuracy tensor([0.9708])\n",
      "Validation Cancer Accuracy tensor([0.8816])\n"
     ]
    }
   ],
   "source": [
    "import torch\n",
    "def calculate_set_metric(loader,model,metric):\n",
    "    tot = 0\n",
    "    for batch in loader:\n",
    "        ans = model(batch.x,batch.edge_index,batch.batch)\n",
    "        tot += metric(ans,batch.y)\n",
    "    return tot/len(loader)\n",
    "\n",
    "def accuracy(ans,y):\n",
    "    y_hat = ans.argmax(dim=1)\n",
    "    return (y_hat == y).sum()\n",
    "\n",
    "def cancer_accuracy(ans,y):\n",
    "    y_hat = ans.argmax(dim=1)\n",
    "    return (y_hat <=1) ==(y<=1 ).sum()\n",
    "    \n",
    "print(\"Training Loss\",calculate_set_metric(train_loader,model,torch.nn.CrossEntropyLoss()))\n",
    "print(\"Validation Loss\",calculate_set_metric(val_loader,model,torch.nn.CrossEntropyLoss()))\n",
    "print(\"Training Accuracy\",calculate_set_metric(train_loader,model,accuracy))\n",
    "print(\"Validation Accuracy\",calculate_set_metric(val_loader,model,accuracy))\n",
    "print(\"Training Cancer Accuracy\",calculate_set_metric(train_loader,model,cancer_accuracy))\n",
    "print(\"Validation Cancer Accuracy\",calculate_set_metric(val_loader,model,cancer_accuracy))\n"
   ]
  },
  {
   "cell_type": "markdown",
   "metadata": {},
   "source": [
    "---"
   ]
  },
  {
   "cell_type": "markdown",
   "metadata": {},
   "source": [
    "## GNNExplainer"
   ]
  },
  {
   "cell_type": "code",
   "execution_count": 5,
   "metadata": {},
   "outputs": [
    {
     "data": {
      "text/plain": [
       "torch_geometric.data.data.Data"
      ]
     },
     "execution_count": 5,
     "metadata": {},
     "output_type": "execute_result"
    }
   ],
   "source": [
    "from torch_geometric.nn import GNNExplainer\n",
    "\n",
    "explainer = GNNExplainer(model,return_type='raw')\n",
    "\n",
    "batch = next(iter(train_loader))[0]\n",
    "\n",
    "type(batch)"
   ]
  },
  {
   "cell_type": "code",
   "execution_count": 6,
   "metadata": {},
   "outputs": [
    {
     "name": "stderr",
     "output_type": "stream",
     "text": [
      "Explain graph: 100%|██████████| 100/100 [00:02<00:00, 39.66it/s]\n"
     ]
    }
   ],
   "source": [
    "x,index = explainer.explain_graph(x=batch.x,edge_index = batch.edge_index)"
   ]
  }
 ],
 "metadata": {
  "interpreter": {
   "hash": "e591b006129f0dfb1d51895b4ed619a4625402ac1a377124080c35d47fc6e9a2"
  },
  "kernelspec": {
   "display_name": "Python 3.9.4 ('venv': venv)",
   "language": "python",
   "name": "python3"
  },
  "language_info": {
   "codemirror_mode": {
    "name": "ipython",
    "version": 3
   },
   "file_extension": ".py",
   "mimetype": "text/x-python",
   "name": "python",
   "nbconvert_exporter": "python",
   "pygments_lexer": "ipython3",
   "version": "3.9.4"
  },
  "orig_nbformat": 4
 },
 "nbformat": 4,
 "nbformat_minor": 2
}
